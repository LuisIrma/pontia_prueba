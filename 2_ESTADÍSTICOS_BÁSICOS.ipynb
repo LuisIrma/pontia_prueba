{
  "cells": [
    {
      "cell_type": "markdown",
      "metadata": {
        "id": "view-in-github",
        "colab_type": "text"
      },
      "source": [
        "<a href=\"https://colab.research.google.com/github/LuisIrma/pontia_prueba/blob/main/2_ESTAD%C3%8DSTICOS_B%C3%81SICOS.ipynb\" target=\"_parent\"><img src=\"https://colab.research.google.com/assets/colab-badge.svg\" alt=\"Open In Colab\"/></a>"
      ]
    },
    {
      "cell_type": "markdown",
      "source": [
        "<img src=\"https://drive.google.com/uc?id=1h6tCCKlZYAb2vZ265Ox8-zoSlSoutDBi\" alt=\"drawing\" width=\"150\"/>\n",
        "\n",
        "_Master en Data Analytics y Master Data Science._  \n",
        "**Docente:** Luis Esteban Andaluz  \n",
        "**Email:** luis_esteban_95@hotmail.es  \n",
        "**Lindkedin:**  https://www.linkedin.com/in/luis-esteban-andaluz/\n",
        "\n",
        "\n",
        "---\n",
        "\n",
        "\n",
        "\n",
        "# 2 - ESTADÍSTICOS BÁSICOS JAJAJA"
      ],
      "metadata": {
        "id": "J8NlDbtm6pk7"
      },
      "id": "J8NlDbtm6pk7"
    },
    {
      "cell_type": "markdown",
      "source": [
        "## Índice\n",
        "* [Lectura del dataframe.](#dataframe)\n",
        "* [Estadísticos de posición.](#posicion)\n",
        "  * [Media / mean](#media)\n",
        "  * [Media ponderada / weighted mean](#media_ponderada)\n",
        "  * [Mediana / median](#mediana)\n",
        "  * [Percentil / Percentile](#percentil)\n",
        "  * [Mediana ponderada / weighted median](#mediana_ponderda)\n",
        "  * [Media truncada / trimmed mean](#mediana_ponderda)\n",
        "* [Estadísticos de variación.](#variacion)\n",
        "  * [Desviación / deviation](#desviacion)\n",
        "  * [Varianza / variance](#varianza)\n",
        "  * [Desviación estándar / Standard deviation](#desviacion_estandar)\n",
        "  * [Desviación absoluta media / Mean absolute deviation](#desviacion_media)\n",
        "  * [Desviación mediana respecto a la mediana / Median absolute deviation from the median](#mediana_ponderda)\n",
        "  * [Rango / range](#rango)\n",
        "  * [Estadística de órden / order statistics](#order)\n",
        "  * [Estimaciones basadas en percentiles](#rango_intercuartilico)\n",
        "* [Ejercicios](#Ejercicios)"
      ],
      "metadata": {
        "id": "AAQVCkoV608l"
      },
      "id": "AAQVCkoV608l"
    },
    {
      "cell_type": "markdown",
      "source": [
        "## Lectura del dataframe <a class=\"anchor\" id=\"dataframe\"></a>"
      ],
      "metadata": {
        "id": "mQ3b0EyjAseu"
      },
      "id": "mQ3b0EyjAseu"
    },
    {
      "cell_type": "code",
      "source": [
        "from google.colab import drive\n",
        "drive.mount('/content/drive')"
      ],
      "metadata": {
        "colab": {
          "base_uri": "https://localhost:8080/"
        },
        "id": "bijA7nnEB_eJ",
        "outputId": "b996b870-4f26-4e2a-f4e9-211ad4f38056"
      },
      "id": "bijA7nnEB_eJ",
      "execution_count": null,
      "outputs": [
        {
          "output_type": "stream",
          "name": "stdout",
          "text": [
            "Mounted at /content/drive\n"
          ]
        }
      ]
    },
    {
      "cell_type": "code",
      "source": [
        "import pandas as pd\n",
        "df = pd.read_csv(\"/content/drive/MyDrive/PONTIA - ESTADÍSTICA/1_modulo_matematico/2022_forbes_billionaires.csv\")\n",
        "df.head()"
      ],
      "metadata": {
        "colab": {
          "base_uri": "https://localhost:8080/",
          "height": 206
        },
        "id": "hITcupQlAwpy",
        "outputId": "d0069738-4606-4a1f-db4e-41ef4f5d5a99"
      },
      "id": "hITcupQlAwpy",
      "execution_count": null,
      "outputs": [
        {
          "output_type": "execute_result",
          "data": {
            "text/plain": [
              "   Unnamed: 0  rank                       name networth  age        country  \\\n",
              "0           0     1                 Elon Musk    $219 B   50  United States   \n",
              "1           1     2                Jeff Bezos    $171 B   58  United States   \n",
              "2           2     3  Bernard Arnault & family    $158 B   73         France   \n",
              "3           3     4                Bill Gates    $129 B   66  United States   \n",
              "4           4     5            Warren Buffett    $118 B   91  United States   \n",
              "\n",
              "               source                industry  \n",
              "0       Tesla, SpaceX             Automotive   \n",
              "1              Amazon             Technology   \n",
              "2                LVMH       Fashion & Retail   \n",
              "3           Microsoft             Technology   \n",
              "4  Berkshire Hathaway  Finance & Investments   "
            ],
            "text/html": [
              "\n",
              "  <div id=\"df-898c678e-a201-4e66-9567-3980a5262091\" class=\"colab-df-container\">\n",
              "    <div>\n",
              "<style scoped>\n",
              "    .dataframe tbody tr th:only-of-type {\n",
              "        vertical-align: middle;\n",
              "    }\n",
              "\n",
              "    .dataframe tbody tr th {\n",
              "        vertical-align: top;\n",
              "    }\n",
              "\n",
              "    .dataframe thead th {\n",
              "        text-align: right;\n",
              "    }\n",
              "</style>\n",
              "<table border=\"1\" class=\"dataframe\">\n",
              "  <thead>\n",
              "    <tr style=\"text-align: right;\">\n",
              "      <th></th>\n",
              "      <th>Unnamed: 0</th>\n",
              "      <th>rank</th>\n",
              "      <th>name</th>\n",
              "      <th>networth</th>\n",
              "      <th>age</th>\n",
              "      <th>country</th>\n",
              "      <th>source</th>\n",
              "      <th>industry</th>\n",
              "    </tr>\n",
              "  </thead>\n",
              "  <tbody>\n",
              "    <tr>\n",
              "      <th>0</th>\n",
              "      <td>0</td>\n",
              "      <td>1</td>\n",
              "      <td>Elon Musk</td>\n",
              "      <td>$219 B</td>\n",
              "      <td>50</td>\n",
              "      <td>United States</td>\n",
              "      <td>Tesla, SpaceX</td>\n",
              "      <td>Automotive</td>\n",
              "    </tr>\n",
              "    <tr>\n",
              "      <th>1</th>\n",
              "      <td>1</td>\n",
              "      <td>2</td>\n",
              "      <td>Jeff Bezos</td>\n",
              "      <td>$171 B</td>\n",
              "      <td>58</td>\n",
              "      <td>United States</td>\n",
              "      <td>Amazon</td>\n",
              "      <td>Technology</td>\n",
              "    </tr>\n",
              "    <tr>\n",
              "      <th>2</th>\n",
              "      <td>2</td>\n",
              "      <td>3</td>\n",
              "      <td>Bernard Arnault &amp; family</td>\n",
              "      <td>$158 B</td>\n",
              "      <td>73</td>\n",
              "      <td>France</td>\n",
              "      <td>LVMH</td>\n",
              "      <td>Fashion &amp; Retail</td>\n",
              "    </tr>\n",
              "    <tr>\n",
              "      <th>3</th>\n",
              "      <td>3</td>\n",
              "      <td>4</td>\n",
              "      <td>Bill Gates</td>\n",
              "      <td>$129 B</td>\n",
              "      <td>66</td>\n",
              "      <td>United States</td>\n",
              "      <td>Microsoft</td>\n",
              "      <td>Technology</td>\n",
              "    </tr>\n",
              "    <tr>\n",
              "      <th>4</th>\n",
              "      <td>4</td>\n",
              "      <td>5</td>\n",
              "      <td>Warren Buffett</td>\n",
              "      <td>$118 B</td>\n",
              "      <td>91</td>\n",
              "      <td>United States</td>\n",
              "      <td>Berkshire Hathaway</td>\n",
              "      <td>Finance &amp; Investments</td>\n",
              "    </tr>\n",
              "  </tbody>\n",
              "</table>\n",
              "</div>\n",
              "    <div class=\"colab-df-buttons\">\n",
              "\n",
              "  <div class=\"colab-df-container\">\n",
              "    <button class=\"colab-df-convert\" onclick=\"convertToInteractive('df-898c678e-a201-4e66-9567-3980a5262091')\"\n",
              "            title=\"Convert this dataframe to an interactive table.\"\n",
              "            style=\"display:none;\">\n",
              "\n",
              "  <svg xmlns=\"http://www.w3.org/2000/svg\" height=\"24px\" viewBox=\"0 -960 960 960\">\n",
              "    <path d=\"M120-120v-720h720v720H120Zm60-500h600v-160H180v160Zm220 220h160v-160H400v160Zm0 220h160v-160H400v160ZM180-400h160v-160H180v160Zm440 0h160v-160H620v160ZM180-180h160v-160H180v160Zm440 0h160v-160H620v160Z\"/>\n",
              "  </svg>\n",
              "    </button>\n",
              "\n",
              "  <style>\n",
              "    .colab-df-container {\n",
              "      display:flex;\n",
              "      gap: 12px;\n",
              "    }\n",
              "\n",
              "    .colab-df-convert {\n",
              "      background-color: #E8F0FE;\n",
              "      border: none;\n",
              "      border-radius: 50%;\n",
              "      cursor: pointer;\n",
              "      display: none;\n",
              "      fill: #1967D2;\n",
              "      height: 32px;\n",
              "      padding: 0 0 0 0;\n",
              "      width: 32px;\n",
              "    }\n",
              "\n",
              "    .colab-df-convert:hover {\n",
              "      background-color: #E2EBFA;\n",
              "      box-shadow: 0px 1px 2px rgba(60, 64, 67, 0.3), 0px 1px 3px 1px rgba(60, 64, 67, 0.15);\n",
              "      fill: #174EA6;\n",
              "    }\n",
              "\n",
              "    .colab-df-buttons div {\n",
              "      margin-bottom: 4px;\n",
              "    }\n",
              "\n",
              "    [theme=dark] .colab-df-convert {\n",
              "      background-color: #3B4455;\n",
              "      fill: #D2E3FC;\n",
              "    }\n",
              "\n",
              "    [theme=dark] .colab-df-convert:hover {\n",
              "      background-color: #434B5C;\n",
              "      box-shadow: 0px 1px 3px 1px rgba(0, 0, 0, 0.15);\n",
              "      filter: drop-shadow(0px 1px 2px rgba(0, 0, 0, 0.3));\n",
              "      fill: #FFFFFF;\n",
              "    }\n",
              "  </style>\n",
              "\n",
              "    <script>\n",
              "      const buttonEl =\n",
              "        document.querySelector('#df-898c678e-a201-4e66-9567-3980a5262091 button.colab-df-convert');\n",
              "      buttonEl.style.display =\n",
              "        google.colab.kernel.accessAllowed ? 'block' : 'none';\n",
              "\n",
              "      async function convertToInteractive(key) {\n",
              "        const element = document.querySelector('#df-898c678e-a201-4e66-9567-3980a5262091');\n",
              "        const dataTable =\n",
              "          await google.colab.kernel.invokeFunction('convertToInteractive',\n",
              "                                                    [key], {});\n",
              "        if (!dataTable) return;\n",
              "\n",
              "        const docLinkHtml = 'Like what you see? Visit the ' +\n",
              "          '<a target=\"_blank\" href=https://colab.research.google.com/notebooks/data_table.ipynb>data table notebook</a>'\n",
              "          + ' to learn more about interactive tables.';\n",
              "        element.innerHTML = '';\n",
              "        dataTable['output_type'] = 'display_data';\n",
              "        await google.colab.output.renderOutput(dataTable, element);\n",
              "        const docLink = document.createElement('div');\n",
              "        docLink.innerHTML = docLinkHtml;\n",
              "        element.appendChild(docLink);\n",
              "      }\n",
              "    </script>\n",
              "  </div>\n",
              "\n",
              "\n",
              "<div id=\"df-cff1b081-5ccc-48c1-b787-17bac1f85751\">\n",
              "  <button class=\"colab-df-quickchart\" onclick=\"quickchart('df-cff1b081-5ccc-48c1-b787-17bac1f85751')\"\n",
              "            title=\"Suggest charts\"\n",
              "            style=\"display:none;\">\n",
              "\n",
              "<svg xmlns=\"http://www.w3.org/2000/svg\" height=\"24px\"viewBox=\"0 0 24 24\"\n",
              "     width=\"24px\">\n",
              "    <g>\n",
              "        <path d=\"M19 3H5c-1.1 0-2 .9-2 2v14c0 1.1.9 2 2 2h14c1.1 0 2-.9 2-2V5c0-1.1-.9-2-2-2zM9 17H7v-7h2v7zm4 0h-2V7h2v10zm4 0h-2v-4h2v4z\"/>\n",
              "    </g>\n",
              "</svg>\n",
              "  </button>\n",
              "\n",
              "<style>\n",
              "  .colab-df-quickchart {\n",
              "      --bg-color: #E8F0FE;\n",
              "      --fill-color: #1967D2;\n",
              "      --hover-bg-color: #E2EBFA;\n",
              "      --hover-fill-color: #174EA6;\n",
              "      --disabled-fill-color: #AAA;\n",
              "      --disabled-bg-color: #DDD;\n",
              "  }\n",
              "\n",
              "  [theme=dark] .colab-df-quickchart {\n",
              "      --bg-color: #3B4455;\n",
              "      --fill-color: #D2E3FC;\n",
              "      --hover-bg-color: #434B5C;\n",
              "      --hover-fill-color: #FFFFFF;\n",
              "      --disabled-bg-color: #3B4455;\n",
              "      --disabled-fill-color: #666;\n",
              "  }\n",
              "\n",
              "  .colab-df-quickchart {\n",
              "    background-color: var(--bg-color);\n",
              "    border: none;\n",
              "    border-radius: 50%;\n",
              "    cursor: pointer;\n",
              "    display: none;\n",
              "    fill: var(--fill-color);\n",
              "    height: 32px;\n",
              "    padding: 0;\n",
              "    width: 32px;\n",
              "  }\n",
              "\n",
              "  .colab-df-quickchart:hover {\n",
              "    background-color: var(--hover-bg-color);\n",
              "    box-shadow: 0 1px 2px rgba(60, 64, 67, 0.3), 0 1px 3px 1px rgba(60, 64, 67, 0.15);\n",
              "    fill: var(--button-hover-fill-color);\n",
              "  }\n",
              "\n",
              "  .colab-df-quickchart-complete:disabled,\n",
              "  .colab-df-quickchart-complete:disabled:hover {\n",
              "    background-color: var(--disabled-bg-color);\n",
              "    fill: var(--disabled-fill-color);\n",
              "    box-shadow: none;\n",
              "  }\n",
              "\n",
              "  .colab-df-spinner {\n",
              "    border: 2px solid var(--fill-color);\n",
              "    border-color: transparent;\n",
              "    border-bottom-color: var(--fill-color);\n",
              "    animation:\n",
              "      spin 1s steps(1) infinite;\n",
              "  }\n",
              "\n",
              "  @keyframes spin {\n",
              "    0% {\n",
              "      border-color: transparent;\n",
              "      border-bottom-color: var(--fill-color);\n",
              "      border-left-color: var(--fill-color);\n",
              "    }\n",
              "    20% {\n",
              "      border-color: transparent;\n",
              "      border-left-color: var(--fill-color);\n",
              "      border-top-color: var(--fill-color);\n",
              "    }\n",
              "    30% {\n",
              "      border-color: transparent;\n",
              "      border-left-color: var(--fill-color);\n",
              "      border-top-color: var(--fill-color);\n",
              "      border-right-color: var(--fill-color);\n",
              "    }\n",
              "    40% {\n",
              "      border-color: transparent;\n",
              "      border-right-color: var(--fill-color);\n",
              "      border-top-color: var(--fill-color);\n",
              "    }\n",
              "    60% {\n",
              "      border-color: transparent;\n",
              "      border-right-color: var(--fill-color);\n",
              "    }\n",
              "    80% {\n",
              "      border-color: transparent;\n",
              "      border-right-color: var(--fill-color);\n",
              "      border-bottom-color: var(--fill-color);\n",
              "    }\n",
              "    90% {\n",
              "      border-color: transparent;\n",
              "      border-bottom-color: var(--fill-color);\n",
              "    }\n",
              "  }\n",
              "</style>\n",
              "\n",
              "  <script>\n",
              "    async function quickchart(key) {\n",
              "      const quickchartButtonEl =\n",
              "        document.querySelector('#' + key + ' button');\n",
              "      quickchartButtonEl.disabled = true;  // To prevent multiple clicks.\n",
              "      quickchartButtonEl.classList.add('colab-df-spinner');\n",
              "      try {\n",
              "        const charts = await google.colab.kernel.invokeFunction(\n",
              "            'suggestCharts', [key], {});\n",
              "      } catch (error) {\n",
              "        console.error('Error during call to suggestCharts:', error);\n",
              "      }\n",
              "      quickchartButtonEl.classList.remove('colab-df-spinner');\n",
              "      quickchartButtonEl.classList.add('colab-df-quickchart-complete');\n",
              "    }\n",
              "    (() => {\n",
              "      let quickchartButtonEl =\n",
              "        document.querySelector('#df-cff1b081-5ccc-48c1-b787-17bac1f85751 button');\n",
              "      quickchartButtonEl.style.display =\n",
              "        google.colab.kernel.accessAllowed ? 'block' : 'none';\n",
              "    })();\n",
              "  </script>\n",
              "</div>\n",
              "    </div>\n",
              "  </div>\n"
            ]
          },
          "metadata": {},
          "execution_count": 2
        }
      ]
    },
    {
      "cell_type": "code",
      "source": [
        "df.tail()"
      ],
      "metadata": {
        "colab": {
          "base_uri": "https://localhost:8080/",
          "height": 206
        },
        "id": "Co03sDKXD3fw",
        "outputId": "41b64a06-5cf2-42b4-fa15-afeb81c78925"
      },
      "id": "Co03sDKXD3fw",
      "execution_count": null,
      "outputs": [
        {
          "output_type": "execute_result",
          "data": {
            "text/plain": [
              "      Unnamed: 0  rank                     name networth  age      country  \\\n",
              "2595        2595  2578  Jorge Gallardo Ballart      $1 B   80        Spain   \n",
              "2596        2596  2578            Nari Genomal      $1 B   82  Philippines   \n",
              "2597        2597  2578          Ramesh Genomal      $1 B   71  Philippines   \n",
              "2598        2598  2578          Sunder Genomal      $1 B   68  Philippines   \n",
              "2599        2599  2578   Horst-Otto Gerberding      $1 B   69      Germany   \n",
              "\n",
              "                      source           industry  \n",
              "2595         pharmaceuticals        Healthcare   \n",
              "2596                 apparel  Fashion & Retail   \n",
              "2597                 apparel  Fashion & Retail   \n",
              "2598                garments  Fashion & Retail   \n",
              "2599  flavors and fragrances   Food & Beverage   "
            ],
            "text/html": [
              "\n",
              "  <div id=\"df-668c4734-04a8-4192-8ef1-999ad703d66d\" class=\"colab-df-container\">\n",
              "    <div>\n",
              "<style scoped>\n",
              "    .dataframe tbody tr th:only-of-type {\n",
              "        vertical-align: middle;\n",
              "    }\n",
              "\n",
              "    .dataframe tbody tr th {\n",
              "        vertical-align: top;\n",
              "    }\n",
              "\n",
              "    .dataframe thead th {\n",
              "        text-align: right;\n",
              "    }\n",
              "</style>\n",
              "<table border=\"1\" class=\"dataframe\">\n",
              "  <thead>\n",
              "    <tr style=\"text-align: right;\">\n",
              "      <th></th>\n",
              "      <th>Unnamed: 0</th>\n",
              "      <th>rank</th>\n",
              "      <th>name</th>\n",
              "      <th>networth</th>\n",
              "      <th>age</th>\n",
              "      <th>country</th>\n",
              "      <th>source</th>\n",
              "      <th>industry</th>\n",
              "    </tr>\n",
              "  </thead>\n",
              "  <tbody>\n",
              "    <tr>\n",
              "      <th>2595</th>\n",
              "      <td>2595</td>\n",
              "      <td>2578</td>\n",
              "      <td>Jorge Gallardo Ballart</td>\n",
              "      <td>$1 B</td>\n",
              "      <td>80</td>\n",
              "      <td>Spain</td>\n",
              "      <td>pharmaceuticals</td>\n",
              "      <td>Healthcare</td>\n",
              "    </tr>\n",
              "    <tr>\n",
              "      <th>2596</th>\n",
              "      <td>2596</td>\n",
              "      <td>2578</td>\n",
              "      <td>Nari Genomal</td>\n",
              "      <td>$1 B</td>\n",
              "      <td>82</td>\n",
              "      <td>Philippines</td>\n",
              "      <td>apparel</td>\n",
              "      <td>Fashion &amp; Retail</td>\n",
              "    </tr>\n",
              "    <tr>\n",
              "      <th>2597</th>\n",
              "      <td>2597</td>\n",
              "      <td>2578</td>\n",
              "      <td>Ramesh Genomal</td>\n",
              "      <td>$1 B</td>\n",
              "      <td>71</td>\n",
              "      <td>Philippines</td>\n",
              "      <td>apparel</td>\n",
              "      <td>Fashion &amp; Retail</td>\n",
              "    </tr>\n",
              "    <tr>\n",
              "      <th>2598</th>\n",
              "      <td>2598</td>\n",
              "      <td>2578</td>\n",
              "      <td>Sunder Genomal</td>\n",
              "      <td>$1 B</td>\n",
              "      <td>68</td>\n",
              "      <td>Philippines</td>\n",
              "      <td>garments</td>\n",
              "      <td>Fashion &amp; Retail</td>\n",
              "    </tr>\n",
              "    <tr>\n",
              "      <th>2599</th>\n",
              "      <td>2599</td>\n",
              "      <td>2578</td>\n",
              "      <td>Horst-Otto Gerberding</td>\n",
              "      <td>$1 B</td>\n",
              "      <td>69</td>\n",
              "      <td>Germany</td>\n",
              "      <td>flavors and fragrances</td>\n",
              "      <td>Food &amp; Beverage</td>\n",
              "    </tr>\n",
              "  </tbody>\n",
              "</table>\n",
              "</div>\n",
              "    <div class=\"colab-df-buttons\">\n",
              "\n",
              "  <div class=\"colab-df-container\">\n",
              "    <button class=\"colab-df-convert\" onclick=\"convertToInteractive('df-668c4734-04a8-4192-8ef1-999ad703d66d')\"\n",
              "            title=\"Convert this dataframe to an interactive table.\"\n",
              "            style=\"display:none;\">\n",
              "\n",
              "  <svg xmlns=\"http://www.w3.org/2000/svg\" height=\"24px\" viewBox=\"0 -960 960 960\">\n",
              "    <path d=\"M120-120v-720h720v720H120Zm60-500h600v-160H180v160Zm220 220h160v-160H400v160Zm0 220h160v-160H400v160ZM180-400h160v-160H180v160Zm440 0h160v-160H620v160ZM180-180h160v-160H180v160Zm440 0h160v-160H620v160Z\"/>\n",
              "  </svg>\n",
              "    </button>\n",
              "\n",
              "  <style>\n",
              "    .colab-df-container {\n",
              "      display:flex;\n",
              "      gap: 12px;\n",
              "    }\n",
              "\n",
              "    .colab-df-convert {\n",
              "      background-color: #E8F0FE;\n",
              "      border: none;\n",
              "      border-radius: 50%;\n",
              "      cursor: pointer;\n",
              "      display: none;\n",
              "      fill: #1967D2;\n",
              "      height: 32px;\n",
              "      padding: 0 0 0 0;\n",
              "      width: 32px;\n",
              "    }\n",
              "\n",
              "    .colab-df-convert:hover {\n",
              "      background-color: #E2EBFA;\n",
              "      box-shadow: 0px 1px 2px rgba(60, 64, 67, 0.3), 0px 1px 3px 1px rgba(60, 64, 67, 0.15);\n",
              "      fill: #174EA6;\n",
              "    }\n",
              "\n",
              "    .colab-df-buttons div {\n",
              "      margin-bottom: 4px;\n",
              "    }\n",
              "\n",
              "    [theme=dark] .colab-df-convert {\n",
              "      background-color: #3B4455;\n",
              "      fill: #D2E3FC;\n",
              "    }\n",
              "\n",
              "    [theme=dark] .colab-df-convert:hover {\n",
              "      background-color: #434B5C;\n",
              "      box-shadow: 0px 1px 3px 1px rgba(0, 0, 0, 0.15);\n",
              "      filter: drop-shadow(0px 1px 2px rgba(0, 0, 0, 0.3));\n",
              "      fill: #FFFFFF;\n",
              "    }\n",
              "  </style>\n",
              "\n",
              "    <script>\n",
              "      const buttonEl =\n",
              "        document.querySelector('#df-668c4734-04a8-4192-8ef1-999ad703d66d button.colab-df-convert');\n",
              "      buttonEl.style.display =\n",
              "        google.colab.kernel.accessAllowed ? 'block' : 'none';\n",
              "\n",
              "      async function convertToInteractive(key) {\n",
              "        const element = document.querySelector('#df-668c4734-04a8-4192-8ef1-999ad703d66d');\n",
              "        const dataTable =\n",
              "          await google.colab.kernel.invokeFunction('convertToInteractive',\n",
              "                                                    [key], {});\n",
              "        if (!dataTable) return;\n",
              "\n",
              "        const docLinkHtml = 'Like what you see? Visit the ' +\n",
              "          '<a target=\"_blank\" href=https://colab.research.google.com/notebooks/data_table.ipynb>data table notebook</a>'\n",
              "          + ' to learn more about interactive tables.';\n",
              "        element.innerHTML = '';\n",
              "        dataTable['output_type'] = 'display_data';\n",
              "        await google.colab.output.renderOutput(dataTable, element);\n",
              "        const docLink = document.createElement('div');\n",
              "        docLink.innerHTML = docLinkHtml;\n",
              "        element.appendChild(docLink);\n",
              "      }\n",
              "    </script>\n",
              "  </div>\n",
              "\n",
              "\n",
              "<div id=\"df-28b2329e-d33c-4803-9987-bf4c71ba6938\">\n",
              "  <button class=\"colab-df-quickchart\" onclick=\"quickchart('df-28b2329e-d33c-4803-9987-bf4c71ba6938')\"\n",
              "            title=\"Suggest charts\"\n",
              "            style=\"display:none;\">\n",
              "\n",
              "<svg xmlns=\"http://www.w3.org/2000/svg\" height=\"24px\"viewBox=\"0 0 24 24\"\n",
              "     width=\"24px\">\n",
              "    <g>\n",
              "        <path d=\"M19 3H5c-1.1 0-2 .9-2 2v14c0 1.1.9 2 2 2h14c1.1 0 2-.9 2-2V5c0-1.1-.9-2-2-2zM9 17H7v-7h2v7zm4 0h-2V7h2v10zm4 0h-2v-4h2v4z\"/>\n",
              "    </g>\n",
              "</svg>\n",
              "  </button>\n",
              "\n",
              "<style>\n",
              "  .colab-df-quickchart {\n",
              "      --bg-color: #E8F0FE;\n",
              "      --fill-color: #1967D2;\n",
              "      --hover-bg-color: #E2EBFA;\n",
              "      --hover-fill-color: #174EA6;\n",
              "      --disabled-fill-color: #AAA;\n",
              "      --disabled-bg-color: #DDD;\n",
              "  }\n",
              "\n",
              "  [theme=dark] .colab-df-quickchart {\n",
              "      --bg-color: #3B4455;\n",
              "      --fill-color: #D2E3FC;\n",
              "      --hover-bg-color: #434B5C;\n",
              "      --hover-fill-color: #FFFFFF;\n",
              "      --disabled-bg-color: #3B4455;\n",
              "      --disabled-fill-color: #666;\n",
              "  }\n",
              "\n",
              "  .colab-df-quickchart {\n",
              "    background-color: var(--bg-color);\n",
              "    border: none;\n",
              "    border-radius: 50%;\n",
              "    cursor: pointer;\n",
              "    display: none;\n",
              "    fill: var(--fill-color);\n",
              "    height: 32px;\n",
              "    padding: 0;\n",
              "    width: 32px;\n",
              "  }\n",
              "\n",
              "  .colab-df-quickchart:hover {\n",
              "    background-color: var(--hover-bg-color);\n",
              "    box-shadow: 0 1px 2px rgba(60, 64, 67, 0.3), 0 1px 3px 1px rgba(60, 64, 67, 0.15);\n",
              "    fill: var(--button-hover-fill-color);\n",
              "  }\n",
              "\n",
              "  .colab-df-quickchart-complete:disabled,\n",
              "  .colab-df-quickchart-complete:disabled:hover {\n",
              "    background-color: var(--disabled-bg-color);\n",
              "    fill: var(--disabled-fill-color);\n",
              "    box-shadow: none;\n",
              "  }\n",
              "\n",
              "  .colab-df-spinner {\n",
              "    border: 2px solid var(--fill-color);\n",
              "    border-color: transparent;\n",
              "    border-bottom-color: var(--fill-color);\n",
              "    animation:\n",
              "      spin 1s steps(1) infinite;\n",
              "  }\n",
              "\n",
              "  @keyframes spin {\n",
              "    0% {\n",
              "      border-color: transparent;\n",
              "      border-bottom-color: var(--fill-color);\n",
              "      border-left-color: var(--fill-color);\n",
              "    }\n",
              "    20% {\n",
              "      border-color: transparent;\n",
              "      border-left-color: var(--fill-color);\n",
              "      border-top-color: var(--fill-color);\n",
              "    }\n",
              "    30% {\n",
              "      border-color: transparent;\n",
              "      border-left-color: var(--fill-color);\n",
              "      border-top-color: var(--fill-color);\n",
              "      border-right-color: var(--fill-color);\n",
              "    }\n",
              "    40% {\n",
              "      border-color: transparent;\n",
              "      border-right-color: var(--fill-color);\n",
              "      border-top-color: var(--fill-color);\n",
              "    }\n",
              "    60% {\n",
              "      border-color: transparent;\n",
              "      border-right-color: var(--fill-color);\n",
              "    }\n",
              "    80% {\n",
              "      border-color: transparent;\n",
              "      border-right-color: var(--fill-color);\n",
              "      border-bottom-color: var(--fill-color);\n",
              "    }\n",
              "    90% {\n",
              "      border-color: transparent;\n",
              "      border-bottom-color: var(--fill-color);\n",
              "    }\n",
              "  }\n",
              "</style>\n",
              "\n",
              "  <script>\n",
              "    async function quickchart(key) {\n",
              "      const quickchartButtonEl =\n",
              "        document.querySelector('#' + key + ' button');\n",
              "      quickchartButtonEl.disabled = true;  // To prevent multiple clicks.\n",
              "      quickchartButtonEl.classList.add('colab-df-spinner');\n",
              "      try {\n",
              "        const charts = await google.colab.kernel.invokeFunction(\n",
              "            'suggestCharts', [key], {});\n",
              "      } catch (error) {\n",
              "        console.error('Error during call to suggestCharts:', error);\n",
              "      }\n",
              "      quickchartButtonEl.classList.remove('colab-df-spinner');\n",
              "      quickchartButtonEl.classList.add('colab-df-quickchart-complete');\n",
              "    }\n",
              "    (() => {\n",
              "      let quickchartButtonEl =\n",
              "        document.querySelector('#df-28b2329e-d33c-4803-9987-bf4c71ba6938 button');\n",
              "      quickchartButtonEl.style.display =\n",
              "        google.colab.kernel.accessAllowed ? 'block' : 'none';\n",
              "    })();\n",
              "  </script>\n",
              "</div>\n",
              "    </div>\n",
              "  </div>\n"
            ]
          },
          "metadata": {},
          "execution_count": 3
        }
      ]
    },
    {
      "cell_type": "code",
      "source": [
        "df[\"networth_numeric\"] = df[\"networth\"].apply(lambda x: x.replace(\"$\",\"\").replace(\"B\", \"\")).astype(float)"
      ],
      "metadata": {
        "id": "bVu0atmWCk-m"
      },
      "id": "bVu0atmWCk-m",
      "execution_count": null,
      "outputs": []
    },
    {
      "cell_type": "code",
      "source": [
        "df.head()"
      ],
      "metadata": {
        "colab": {
          "base_uri": "https://localhost:8080/",
          "height": 206
        },
        "id": "RZcdAaq0C-Qp",
        "outputId": "dc3699c0-50c9-431b-e3ae-43f161fa9578"
      },
      "id": "RZcdAaq0C-Qp",
      "execution_count": null,
      "outputs": [
        {
          "output_type": "execute_result",
          "data": {
            "text/plain": [
              "   Unnamed: 0  rank                       name networth  age        country  \\\n",
              "0           0     1                 Elon Musk    $219 B   50  United States   \n",
              "1           1     2                Jeff Bezos    $171 B   58  United States   \n",
              "2           2     3  Bernard Arnault & family    $158 B   73         France   \n",
              "3           3     4                Bill Gates    $129 B   66  United States   \n",
              "4           4     5            Warren Buffett    $118 B   91  United States   \n",
              "\n",
              "               source                industry  networth_numeric  \n",
              "0       Tesla, SpaceX             Automotive              219.0  \n",
              "1              Amazon             Technology              171.0  \n",
              "2                LVMH       Fashion & Retail              158.0  \n",
              "3           Microsoft             Technology              129.0  \n",
              "4  Berkshire Hathaway  Finance & Investments              118.0  "
            ],
            "text/html": [
              "\n",
              "  <div id=\"df-8eb6503b-9fb8-42df-be47-2a3637ec8dc1\" class=\"colab-df-container\">\n",
              "    <div>\n",
              "<style scoped>\n",
              "    .dataframe tbody tr th:only-of-type {\n",
              "        vertical-align: middle;\n",
              "    }\n",
              "\n",
              "    .dataframe tbody tr th {\n",
              "        vertical-align: top;\n",
              "    }\n",
              "\n",
              "    .dataframe thead th {\n",
              "        text-align: right;\n",
              "    }\n",
              "</style>\n",
              "<table border=\"1\" class=\"dataframe\">\n",
              "  <thead>\n",
              "    <tr style=\"text-align: right;\">\n",
              "      <th></th>\n",
              "      <th>Unnamed: 0</th>\n",
              "      <th>rank</th>\n",
              "      <th>name</th>\n",
              "      <th>networth</th>\n",
              "      <th>age</th>\n",
              "      <th>country</th>\n",
              "      <th>source</th>\n",
              "      <th>industry</th>\n",
              "      <th>networth_numeric</th>\n",
              "    </tr>\n",
              "  </thead>\n",
              "  <tbody>\n",
              "    <tr>\n",
              "      <th>0</th>\n",
              "      <td>0</td>\n",
              "      <td>1</td>\n",
              "      <td>Elon Musk</td>\n",
              "      <td>$219 B</td>\n",
              "      <td>50</td>\n",
              "      <td>United States</td>\n",
              "      <td>Tesla, SpaceX</td>\n",
              "      <td>Automotive</td>\n",
              "      <td>219.0</td>\n",
              "    </tr>\n",
              "    <tr>\n",
              "      <th>1</th>\n",
              "      <td>1</td>\n",
              "      <td>2</td>\n",
              "      <td>Jeff Bezos</td>\n",
              "      <td>$171 B</td>\n",
              "      <td>58</td>\n",
              "      <td>United States</td>\n",
              "      <td>Amazon</td>\n",
              "      <td>Technology</td>\n",
              "      <td>171.0</td>\n",
              "    </tr>\n",
              "    <tr>\n",
              "      <th>2</th>\n",
              "      <td>2</td>\n",
              "      <td>3</td>\n",
              "      <td>Bernard Arnault &amp; family</td>\n",
              "      <td>$158 B</td>\n",
              "      <td>73</td>\n",
              "      <td>France</td>\n",
              "      <td>LVMH</td>\n",
              "      <td>Fashion &amp; Retail</td>\n",
              "      <td>158.0</td>\n",
              "    </tr>\n",
              "    <tr>\n",
              "      <th>3</th>\n",
              "      <td>3</td>\n",
              "      <td>4</td>\n",
              "      <td>Bill Gates</td>\n",
              "      <td>$129 B</td>\n",
              "      <td>66</td>\n",
              "      <td>United States</td>\n",
              "      <td>Microsoft</td>\n",
              "      <td>Technology</td>\n",
              "      <td>129.0</td>\n",
              "    </tr>\n",
              "    <tr>\n",
              "      <th>4</th>\n",
              "      <td>4</td>\n",
              "      <td>5</td>\n",
              "      <td>Warren Buffett</td>\n",
              "      <td>$118 B</td>\n",
              "      <td>91</td>\n",
              "      <td>United States</td>\n",
              "      <td>Berkshire Hathaway</td>\n",
              "      <td>Finance &amp; Investments</td>\n",
              "      <td>118.0</td>\n",
              "    </tr>\n",
              "  </tbody>\n",
              "</table>\n",
              "</div>\n",
              "    <div class=\"colab-df-buttons\">\n",
              "\n",
              "  <div class=\"colab-df-container\">\n",
              "    <button class=\"colab-df-convert\" onclick=\"convertToInteractive('df-8eb6503b-9fb8-42df-be47-2a3637ec8dc1')\"\n",
              "            title=\"Convert this dataframe to an interactive table.\"\n",
              "            style=\"display:none;\">\n",
              "\n",
              "  <svg xmlns=\"http://www.w3.org/2000/svg\" height=\"24px\" viewBox=\"0 -960 960 960\">\n",
              "    <path d=\"M120-120v-720h720v720H120Zm60-500h600v-160H180v160Zm220 220h160v-160H400v160Zm0 220h160v-160H400v160ZM180-400h160v-160H180v160Zm440 0h160v-160H620v160ZM180-180h160v-160H180v160Zm440 0h160v-160H620v160Z\"/>\n",
              "  </svg>\n",
              "    </button>\n",
              "\n",
              "  <style>\n",
              "    .colab-df-container {\n",
              "      display:flex;\n",
              "      gap: 12px;\n",
              "    }\n",
              "\n",
              "    .colab-df-convert {\n",
              "      background-color: #E8F0FE;\n",
              "      border: none;\n",
              "      border-radius: 50%;\n",
              "      cursor: pointer;\n",
              "      display: none;\n",
              "      fill: #1967D2;\n",
              "      height: 32px;\n",
              "      padding: 0 0 0 0;\n",
              "      width: 32px;\n",
              "    }\n",
              "\n",
              "    .colab-df-convert:hover {\n",
              "      background-color: #E2EBFA;\n",
              "      box-shadow: 0px 1px 2px rgba(60, 64, 67, 0.3), 0px 1px 3px 1px rgba(60, 64, 67, 0.15);\n",
              "      fill: #174EA6;\n",
              "    }\n",
              "\n",
              "    .colab-df-buttons div {\n",
              "      margin-bottom: 4px;\n",
              "    }\n",
              "\n",
              "    [theme=dark] .colab-df-convert {\n",
              "      background-color: #3B4455;\n",
              "      fill: #D2E3FC;\n",
              "    }\n",
              "\n",
              "    [theme=dark] .colab-df-convert:hover {\n",
              "      background-color: #434B5C;\n",
              "      box-shadow: 0px 1px 3px 1px rgba(0, 0, 0, 0.15);\n",
              "      filter: drop-shadow(0px 1px 2px rgba(0, 0, 0, 0.3));\n",
              "      fill: #FFFFFF;\n",
              "    }\n",
              "  </style>\n",
              "\n",
              "    <script>\n",
              "      const buttonEl =\n",
              "        document.querySelector('#df-8eb6503b-9fb8-42df-be47-2a3637ec8dc1 button.colab-df-convert');\n",
              "      buttonEl.style.display =\n",
              "        google.colab.kernel.accessAllowed ? 'block' : 'none';\n",
              "\n",
              "      async function convertToInteractive(key) {\n",
              "        const element = document.querySelector('#df-8eb6503b-9fb8-42df-be47-2a3637ec8dc1');\n",
              "        const dataTable =\n",
              "          await google.colab.kernel.invokeFunction('convertToInteractive',\n",
              "                                                    [key], {});\n",
              "        if (!dataTable) return;\n",
              "\n",
              "        const docLinkHtml = 'Like what you see? Visit the ' +\n",
              "          '<a target=\"_blank\" href=https://colab.research.google.com/notebooks/data_table.ipynb>data table notebook</a>'\n",
              "          + ' to learn more about interactive tables.';\n",
              "        element.innerHTML = '';\n",
              "        dataTable['output_type'] = 'display_data';\n",
              "        await google.colab.output.renderOutput(dataTable, element);\n",
              "        const docLink = document.createElement('div');\n",
              "        docLink.innerHTML = docLinkHtml;\n",
              "        element.appendChild(docLink);\n",
              "      }\n",
              "    </script>\n",
              "  </div>\n",
              "\n",
              "\n",
              "<div id=\"df-496966eb-d394-4ccf-98e4-f44e034c42a4\">\n",
              "  <button class=\"colab-df-quickchart\" onclick=\"quickchart('df-496966eb-d394-4ccf-98e4-f44e034c42a4')\"\n",
              "            title=\"Suggest charts\"\n",
              "            style=\"display:none;\">\n",
              "\n",
              "<svg xmlns=\"http://www.w3.org/2000/svg\" height=\"24px\"viewBox=\"0 0 24 24\"\n",
              "     width=\"24px\">\n",
              "    <g>\n",
              "        <path d=\"M19 3H5c-1.1 0-2 .9-2 2v14c0 1.1.9 2 2 2h14c1.1 0 2-.9 2-2V5c0-1.1-.9-2-2-2zM9 17H7v-7h2v7zm4 0h-2V7h2v10zm4 0h-2v-4h2v4z\"/>\n",
              "    </g>\n",
              "</svg>\n",
              "  </button>\n",
              "\n",
              "<style>\n",
              "  .colab-df-quickchart {\n",
              "      --bg-color: #E8F0FE;\n",
              "      --fill-color: #1967D2;\n",
              "      --hover-bg-color: #E2EBFA;\n",
              "      --hover-fill-color: #174EA6;\n",
              "      --disabled-fill-color: #AAA;\n",
              "      --disabled-bg-color: #DDD;\n",
              "  }\n",
              "\n",
              "  [theme=dark] .colab-df-quickchart {\n",
              "      --bg-color: #3B4455;\n",
              "      --fill-color: #D2E3FC;\n",
              "      --hover-bg-color: #434B5C;\n",
              "      --hover-fill-color: #FFFFFF;\n",
              "      --disabled-bg-color: #3B4455;\n",
              "      --disabled-fill-color: #666;\n",
              "  }\n",
              "\n",
              "  .colab-df-quickchart {\n",
              "    background-color: var(--bg-color);\n",
              "    border: none;\n",
              "    border-radius: 50%;\n",
              "    cursor: pointer;\n",
              "    display: none;\n",
              "    fill: var(--fill-color);\n",
              "    height: 32px;\n",
              "    padding: 0;\n",
              "    width: 32px;\n",
              "  }\n",
              "\n",
              "  .colab-df-quickchart:hover {\n",
              "    background-color: var(--hover-bg-color);\n",
              "    box-shadow: 0 1px 2px rgba(60, 64, 67, 0.3), 0 1px 3px 1px rgba(60, 64, 67, 0.15);\n",
              "    fill: var(--button-hover-fill-color);\n",
              "  }\n",
              "\n",
              "  .colab-df-quickchart-complete:disabled,\n",
              "  .colab-df-quickchart-complete:disabled:hover {\n",
              "    background-color: var(--disabled-bg-color);\n",
              "    fill: var(--disabled-fill-color);\n",
              "    box-shadow: none;\n",
              "  }\n",
              "\n",
              "  .colab-df-spinner {\n",
              "    border: 2px solid var(--fill-color);\n",
              "    border-color: transparent;\n",
              "    border-bottom-color: var(--fill-color);\n",
              "    animation:\n",
              "      spin 1s steps(1) infinite;\n",
              "  }\n",
              "\n",
              "  @keyframes spin {\n",
              "    0% {\n",
              "      border-color: transparent;\n",
              "      border-bottom-color: var(--fill-color);\n",
              "      border-left-color: var(--fill-color);\n",
              "    }\n",
              "    20% {\n",
              "      border-color: transparent;\n",
              "      border-left-color: var(--fill-color);\n",
              "      border-top-color: var(--fill-color);\n",
              "    }\n",
              "    30% {\n",
              "      border-color: transparent;\n",
              "      border-left-color: var(--fill-color);\n",
              "      border-top-color: var(--fill-color);\n",
              "      border-right-color: var(--fill-color);\n",
              "    }\n",
              "    40% {\n",
              "      border-color: transparent;\n",
              "      border-right-color: var(--fill-color);\n",
              "      border-top-color: var(--fill-color);\n",
              "    }\n",
              "    60% {\n",
              "      border-color: transparent;\n",
              "      border-right-color: var(--fill-color);\n",
              "    }\n",
              "    80% {\n",
              "      border-color: transparent;\n",
              "      border-right-color: var(--fill-color);\n",
              "      border-bottom-color: var(--fill-color);\n",
              "    }\n",
              "    90% {\n",
              "      border-color: transparent;\n",
              "      border-bottom-color: var(--fill-color);\n",
              "    }\n",
              "  }\n",
              "</style>\n",
              "\n",
              "  <script>\n",
              "    async function quickchart(key) {\n",
              "      const quickchartButtonEl =\n",
              "        document.querySelector('#' + key + ' button');\n",
              "      quickchartButtonEl.disabled = true;  // To prevent multiple clicks.\n",
              "      quickchartButtonEl.classList.add('colab-df-spinner');\n",
              "      try {\n",
              "        const charts = await google.colab.kernel.invokeFunction(\n",
              "            'suggestCharts', [key], {});\n",
              "      } catch (error) {\n",
              "        console.error('Error during call to suggestCharts:', error);\n",
              "      }\n",
              "      quickchartButtonEl.classList.remove('colab-df-spinner');\n",
              "      quickchartButtonEl.classList.add('colab-df-quickchart-complete');\n",
              "    }\n",
              "    (() => {\n",
              "      let quickchartButtonEl =\n",
              "        document.querySelector('#df-496966eb-d394-4ccf-98e4-f44e034c42a4 button');\n",
              "      quickchartButtonEl.style.display =\n",
              "        google.colab.kernel.accessAllowed ? 'block' : 'none';\n",
              "    })();\n",
              "  </script>\n",
              "</div>\n",
              "    </div>\n",
              "  </div>\n"
            ]
          },
          "metadata": {},
          "execution_count": 5
        }
      ]
    },
    {
      "cell_type": "markdown",
      "source": [
        "##  Estadísticos de posición <a class=\"anchor\" id=\"posicion\"></a>\n",
        "\n",
        "Los estadísticos de posición son aquellos que nos permiten dar una estimación del valor típico de la distribución de la variable. Hay que tener en cuenta que cuando trabajamos con datos una columna puede tener varios miles de valores diferentes y necesitamos alguna medida que nos permita saber dónde se concentran la mayoría de los datos.\n",
        "\n",
        "\n"
      ],
      "metadata": {
        "id": "HP6Y_oYu67Mf"
      },
      "id": "HP6Y_oYu67Mf"
    },
    {
      "cell_type": "markdown",
      "source": [
        "### Media <a class=\"anchor\" id=\"media\"></a>\n",
        "La media es el valor promedio. Lo calculamos como la suma de todos los valores de la distribución dividido por el número de valores.\n",
        "\n",
        "\n",
        "<img src=\"https://drive.google.com/uc?id=1uuQXTWE5-EVOR3Td66b2TINuFP_UjPFc\" alt=\"drawing\" width=\"350\"/>\n",
        "\n",
        "\n"
      ],
      "metadata": {
        "id": "k20TZNQQJgTQ"
      },
      "id": "k20TZNQQJgTQ"
    },
    {
      "cell_type": "code",
      "source": [
        "print(\"Edad media\")\n",
        "round(df[\"age\"].mean(),2)"
      ],
      "metadata": {
        "colab": {
          "base_uri": "https://localhost:8080/"
        },
        "id": "QJ3W8eZq6zVu",
        "outputId": "b9d775ac-0835-472b-ded3-c32b69fcd881"
      },
      "id": "QJ3W8eZq6zVu",
      "execution_count": null,
      "outputs": [
        {
          "output_type": "stream",
          "name": "stdout",
          "text": [
            "Edad media\n"
          ]
        },
        {
          "output_type": "execute_result",
          "data": {
            "text/plain": [
              "64.27"
            ]
          },
          "metadata": {},
          "execution_count": 6
        }
      ]
    },
    {
      "cell_type": "code",
      "source": [
        "print(\"Riqueza media (Billion $)\")\n",
        "round(df[\"networth_numeric\"].mean(),2)"
      ],
      "metadata": {
        "colab": {
          "base_uri": "https://localhost:8080/"
        },
        "id": "M91_2tdLDnNo",
        "outputId": "913295ad-8450-41c4-8502-b6322736dedf"
      },
      "id": "M91_2tdLDnNo",
      "execution_count": null,
      "outputs": [
        {
          "output_type": "stream",
          "name": "stdout",
          "text": [
            "Riqueza media (Billion $)\n"
          ]
        },
        {
          "output_type": "execute_result",
          "data": {
            "text/plain": [
              "4.86"
            ]
          },
          "metadata": {},
          "execution_count": 7
        }
      ]
    },
    {
      "cell_type": "markdown",
      "source": [
        "### Media ponderada<a class=\"anchor\" id=\"media_ponderada\"></a>\n",
        "\n",
        "La media ponderada se obtiene al multiplicar cada valor de la distribución por un peso específico y después dividiendo por la suma de todos los pesos.\n",
        "\n",
        "Esta métrica es útil para \"disminuir\" o \"aumentar\" el impacto de ciertas observaciones que, por su naturaleza, son menos precisas o más imprecisas. Por ejemplo, si estamos procesando datos que obtenemos de un sensor querremos que los valores de los sensores más precisos influyan más que los menos precisos.\n",
        "\n",
        "También puede servirnos para mitigar posibles defectos en la muestra. Si por ejemplo tenemos dos públicos de los cuales uno está sobrerepresentado quizá queremos utilizar los pesos para disminuir su peso y buscar el equilibrio.\n",
        "\n",
        "<img src=\"https://drive.google.com/uc?id=1FKhojcU53J1arnyRuI2pu35LBOjjKWyG\" alt=\"drawing\" width=\"400\"/>\n"
      ],
      "metadata": {
        "id": "cqx_1AeqEN3s"
      },
      "id": "cqx_1AeqEN3s"
    },
    {
      "cell_type": "code",
      "source": [
        "print(\"Veamos cuál es la edad media ponderando por la riqueza\")\n",
        "round( (df[\"age\"]*df[\"networth_numeric\"]).sum()/ df[\"networth_numeric\"].sum(),2)"
      ],
      "metadata": {
        "colab": {
          "base_uri": "https://localhost:8080/"
        },
        "id": "xRBZRZDyGCr7",
        "outputId": "2a3bd477-b055-4c72-b5be-a7fe85bda682"
      },
      "id": "xRBZRZDyGCr7",
      "execution_count": null,
      "outputs": [
        {
          "output_type": "stream",
          "name": "stdout",
          "text": [
            "Veamos cuál es la edad media ponderando por la riqueza\n"
          ]
        },
        {
          "output_type": "execute_result",
          "data": {
            "text/plain": [
              "65.43"
            ]
          },
          "metadata": {},
          "execution_count": 8
        }
      ]
    },
    {
      "cell_type": "code",
      "source": [
        "# Utilizando numpy\n",
        "import numpy as np\n",
        "round( np.average(df[\"age\"], weights=df[\"networth_numeric\"]),2)"
      ],
      "metadata": {
        "colab": {
          "base_uri": "https://localhost:8080/"
        },
        "id": "LZwAdbVjPaLI",
        "outputId": "81d00001-405f-44eb-9530-c95402d9bef6"
      },
      "id": "LZwAdbVjPaLI",
      "execution_count": null,
      "outputs": [
        {
          "output_type": "execute_result",
          "data": {
            "text/plain": [
              "65.43"
            ]
          },
          "metadata": {},
          "execution_count": 9
        }
      ]
    },
    {
      "cell_type": "markdown",
      "source": [
        "### Mediana<a class=\"anchor\" id=\"mediana\"></a>\n",
        "\n",
        "La mediana es la observación que se encuentra en la posición del centro al ordenar los datos de la distribución. En muchos casos, la mediana es un mejor estimador de la localización de la distribución ya que es menos sensible a posibles datos extremos que desvirtuarian la medida. Por ejemplo, con la riqueza de las personas más ricas del mundo, unas pocas personas tienen muchos más Billion que los demás y esto desplaza la media, sin embargo la mediana nos dará más sensibilidad sobre qué riqueza tiene la mayoría de los multimillonarios de Forbes."
      ],
      "metadata": {
        "id": "Z441qwluHQ62"
      },
      "id": "Z441qwluHQ62"
    },
    {
      "cell_type": "code",
      "source": [
        "print(\"Mediana de la riqueza (B $)\")\n",
        "print(df[\"networth_numeric\"].median())"
      ],
      "metadata": {
        "colab": {
          "base_uri": "https://localhost:8080/"
        },
        "id": "-VeYZRVtG7Ae",
        "outputId": "20fbb1ff-2b14-4a88-8729-c569d4b49919"
      },
      "id": "-VeYZRVtG7Ae",
      "execution_count": null,
      "outputs": [
        {
          "output_type": "stream",
          "name": "stdout",
          "text": [
            "Mediana de la riqueza (B $)\n",
            "2.4\n"
          ]
        }
      ]
    },
    {
      "cell_type": "code",
      "source": [
        "print(\"Mediana de la edad\")\n",
        "print(df[\"age\"].median())"
      ],
      "metadata": {
        "colab": {
          "base_uri": "https://localhost:8080/"
        },
        "id": "V-CWuyroIjvq",
        "outputId": "d354ddf7-ca28-45fe-f9c8-45e0ab3673d0"
      },
      "id": "V-CWuyroIjvq",
      "execution_count": null,
      "outputs": [
        {
          "output_type": "stream",
          "name": "stdout",
          "text": [
            "Mediana de la edad\n",
            "64.0\n"
          ]
        }
      ]
    },
    {
      "cell_type": "markdown",
      "source": [
        "### Percentil\n",
        "Los percentiles son una medida que nos indica la observación que ocupa cierta posición en los datos ordenados. La posición la indicamos con porcentaje, por ejemplo, qué dato ocupa la posición del 12%, el 62% o cualquier otro. Algunos percentiles tienen nombre especiales. Los cuartiles son los datos que ocupan la posición del 25%, 50% y 75%, además, el percentil 50% el la mediana."
      ],
      "metadata": {
        "id": "SAzL24fqKqmg"
      },
      "id": "SAzL24fqKqmg"
    },
    {
      "cell_type": "code",
      "source": [
        "print(\"Diferentes percentiles de la distribución de la riqueza\")\n",
        "df[\"networth_numeric\"].quantile([0.1, 0.25, 0.5, 0.75, 0.9, 0.95, 0.99, 0.995, 0.999, 0.9999])"
      ],
      "metadata": {
        "colab": {
          "base_uri": "https://localhost:8080/"
        },
        "id": "9_0o4V1VMKR-",
        "outputId": "69963e55-ad0b-4d47-d167-91c33988ae54"
      },
      "id": "9_0o4V1VMKR-",
      "execution_count": null,
      "outputs": [
        {
          "output_type": "stream",
          "name": "stdout",
          "text": [
            "Diferentes percentiles de la distribución de la riqueza\n"
          ]
        },
        {
          "output_type": "execute_result",
          "data": {
            "text/plain": [
              "0.1000      1.2000\n",
              "0.2500      1.5000\n",
              "0.5000      2.4000\n",
              "0.7500      4.5000\n",
              "0.9000      8.4000\n",
              "0.9500     14.0000\n",
              "0.9900     47.3190\n",
              "0.9950     74.8320\n",
              "0.9990    140.6290\n",
              "0.9999    206.5248\n",
              "Name: networth_numeric, dtype: float64"
            ]
          },
          "metadata": {},
          "execution_count": 12
        }
      ]
    },
    {
      "cell_type": "code",
      "source": [
        "print(\"Diferentes percentiles de la distribución de la riqueza\")\n",
        "df[\"age\"].quantile([0.1, 0.25, 0.5, 0.75, 0.9, 0.95, 0.99, 0.995, 0.999, 0.9999])"
      ],
      "metadata": {
        "colab": {
          "base_uri": "https://localhost:8080/"
        },
        "id": "vZQFGwG-SPT0",
        "outputId": "7cd37e0f-5155-49a0-a264-a40b2163d2d9"
      },
      "id": "vZQFGwG-SPT0",
      "execution_count": null,
      "outputs": [
        {
          "output_type": "stream",
          "name": "stdout",
          "text": [
            "Diferentes percentiles de la distribución de la riqueza\n"
          ]
        },
        {
          "output_type": "execute_result",
          "data": {
            "text/plain": [
              "0.1000    48.0000\n",
              "0.2500    55.0000\n",
              "0.5000    64.0000\n",
              "0.7500    74.0000\n",
              "0.9000    81.0000\n",
              "0.9500    86.0000\n",
              "0.9900    94.0000\n",
              "0.9950    95.0000\n",
              "0.9990    98.0000\n",
              "0.9999    99.4802\n",
              "Name: age, dtype: float64"
            ]
          },
          "metadata": {},
          "execution_count": 13
        }
      ]
    },
    {
      "cell_type": "markdown",
      "source": [
        "### Mediana ponderada\n",
        "Siguiendo la intuición detrás de la media ponderada, podemos, en vez de quedarnos con la observación del medio de la serie de datos utilizar los pesos para escoger la observación que separa la muestra en dos mitades cuyas sumas de peso resultan iguales."
      ],
      "metadata": {
        "id": "v4jTCMNiJTDz"
      },
      "id": "v4jTCMNiJTDz"
    },
    {
      "cell_type": "code",
      "source": [
        "# utilizando wquantiles\n",
        "!pip install wquantiles\n",
        "import wquantiles"
      ],
      "metadata": {
        "colab": {
          "base_uri": "https://localhost:8080/"
        },
        "id": "Jbu5dgQ1QCj0",
        "outputId": "b0a8049d-03d9-4c17-bd69-3e3eb2b6fb24"
      },
      "id": "Jbu5dgQ1QCj0",
      "execution_count": null,
      "outputs": [
        {
          "output_type": "stream",
          "name": "stdout",
          "text": [
            "Collecting wquantiles\n",
            "  Downloading wquantiles-0.6-py3-none-any.whl (3.3 kB)\n",
            "Requirement already satisfied: numpy>=1.18 in /usr/local/lib/python3.10/dist-packages (from wquantiles) (1.23.5)\n",
            "Installing collected packages: wquantiles\n",
            "Successfully installed wquantiles-0.6\n"
          ]
        }
      ]
    },
    {
      "cell_type": "code",
      "source": [
        "round( wquantiles.median(df[\"age\"], weights=df[\"networth_numeric\"]),2)"
      ],
      "metadata": {
        "colab": {
          "base_uri": "https://localhost:8080/"
        },
        "id": "kE6RNWscPoWA",
        "outputId": "c8167391-eb65-406e-ced3-fb6844dcb6cc"
      },
      "id": "kE6RNWscPoWA",
      "execution_count": null,
      "outputs": [
        {
          "output_type": "execute_result",
          "data": {
            "text/plain": [
              "65.0"
            ]
          },
          "metadata": {},
          "execution_count": 15
        }
      ]
    },
    {
      "cell_type": "markdown",
      "source": [
        "### Media truncada\n",
        "La media truncada se calcula como la media de los datos inferiores a cierta cota superior y superiores a cierta cota inferior. Esta medida nos ofrece un valor de media robusto ya que elimina los datos más extremos que podrían desvirturar la media."
      ],
      "metadata": {
        "id": "Rn665-c8MjAf"
      },
      "id": "Rn665-c8MjAf"
    },
    {
      "cell_type": "code",
      "source": [
        "print(\"Media truncada\")\n",
        "cota_inf = df[\"networth_numeric\"].quantile([0.1]).iloc[0]\n",
        "cota_sup = df[\"networth_numeric\"].quantile([0.9]).iloc[0]\n",
        "round(df.loc[(df[\"networth_numeric\"] > cota_inf )& (df[\"networth_numeric\"] < cota_sup), \"networth_numeric\"].mean(),2)"
      ],
      "metadata": {
        "colab": {
          "base_uri": "https://localhost:8080/"
        },
        "id": "S4Z6K5VvKbBE",
        "outputId": "cc34060b-a23e-4163-bd2e-d0cebdf613c6"
      },
      "id": "S4Z6K5VvKbBE",
      "execution_count": null,
      "outputs": [
        {
          "output_type": "stream",
          "name": "stdout",
          "text": [
            "Media truncada\n"
          ]
        },
        {
          "output_type": "execute_result",
          "data": {
            "text/plain": [
              "3.01"
            ]
          },
          "metadata": {},
          "execution_count": 16
        }
      ]
    },
    {
      "cell_type": "code",
      "source": [
        "# utilizando scipy\n",
        "from scipy.stats import trim_mean\n",
        "round(trim_mean(df[\"networth_numeric\"], 0.1),2)"
      ],
      "metadata": {
        "colab": {
          "base_uri": "https://localhost:8080/"
        },
        "id": "Akjp7jkJOz6H",
        "outputId": "e70ba3cd-3ac8-488e-e204-3cfc4ad8313c"
      },
      "id": "Akjp7jkJOz6H",
      "execution_count": null,
      "outputs": [
        {
          "output_type": "execute_result",
          "data": {
            "text/plain": [
              "3.0"
            ]
          },
          "metadata": {},
          "execution_count": 17
        }
      ]
    },
    {
      "cell_type": "code",
      "source": [
        "from scipy.stats import trim_mean"
      ],
      "metadata": {
        "id": "7M4rvsC38scr"
      },
      "id": "7M4rvsC38scr",
      "execution_count": null,
      "outputs": []
    },
    {
      "cell_type": "code",
      "source": [
        "trim_mean?"
      ],
      "metadata": {
        "id": "YxI93ya-8tof"
      },
      "id": "YxI93ya-8tof",
      "execution_count": null,
      "outputs": []
    },
    {
      "cell_type": "markdown",
      "source": [
        "### Datos robustos y outliers\n",
        "\n",
        "Los outliers o datos atípicos son aquellos que se encuentran muy deslocalizados con respecto a los datos habituales de la distribución. Los outliers pueden desvirtuar nuestras medidas, como por ejemplo la media. Si la medida se ve afectada entonces esta no es robusta mientras que si sí lo es, como la media, hablamos de una medida robusta.\n",
        "\n",
        "Es muy importante entender el origen de los outliers, ¿puede tratarse de un valor centinela que indica un error? ¿está representando una situación que se aleja mucho de la tónica general y por tanto no interesa?  ¿se ha producido un error?\n",
        "\n",
        "Los outliers pueden tratarse estadísticamente o aplicar criterios de negocio para eliminarlos. En cualquier caso, lo ideal es tenerlos siempre analizados."
      ],
      "metadata": {
        "id": "GAO7AzcMNoKK"
      },
      "id": "GAO7AzcMNoKK"
    },
    {
      "cell_type": "code",
      "source": [
        "df[\"networth_numeric\"].hist()"
      ],
      "metadata": {
        "colab": {
          "base_uri": "https://localhost:8080/",
          "height": 447
        },
        "id": "CXieYTjhXLCS",
        "outputId": "23b3e8ff-c9ae-43ae-c8e4-7bf13ba16135"
      },
      "id": "CXieYTjhXLCS",
      "execution_count": null,
      "outputs": [
        {
          "output_type": "execute_result",
          "data": {
            "text/plain": [
              "<Axes: >"
            ]
          },
          "metadata": {},
          "execution_count": 20
        },
        {
          "output_type": "display_data",
          "data": {
            "text/plain": [
              "<Figure size 640x480 with 1 Axes>"
            ],
            "image/png": "[encoded data removed]"
          },
          "metadata": {}
        }
      ]
    },
    {
      "cell_type": "code",
      "source": [
        "df[\"age\"].hist()"
      ],
      "metadata": {
        "colab": {
          "base_uri": "https://localhost:8080/",
          "height": 447
        },
        "id": "MOJgWaDgXL-X",
        "outputId": "8b830705-cb0d-49ee-e334-89b6a2840702"
      },
      "id": "MOJgWaDgXL-X",
      "execution_count": null,
      "outputs": [
        {
          "output_type": "execute_result",
          "data": {
            "text/plain": [
              "<Axes: >"
            ]
          },
          "metadata": {},
          "execution_count": 21
        },
        {
          "output_type": "display_data",
          "data": {
            "text/plain": [
              "<Figure size 640x480 with 1 Axes>"
            ],
            "image/png": "[encoded data removed]"
          },
          "metadata": {}
        }
      ]
    },
    {
      "cell_type": "markdown",
      "source": [
        "## Estadísticos de variación<a class=\"anchor\" id=\"variacion\"></a>"
      ],
      "metadata": {
        "id": "zr2Lkg_AFqQ2"
      },
      "id": "zr2Lkg_AFqQ2"
    },
    {
      "cell_type": "markdown",
      "source": [
        "### Desviación\n",
        "Para cualquier observación podemos calcular cuánto se desvia con respecto al estadístico de posición de la distribución que elijamos. Esta métrica nos da información de cómo de dispersa se encuentra la observación con respecto al valor central. No obstante, no es práctico para saber de un vistazo cómo de dispersos están los datos.\n",
        "\n",
        "\n"
      ],
      "metadata": {
        "id": "dfOP72lIHyJU"
      },
      "id": "dfOP72lIHyJU"
    },
    {
      "cell_type": "code",
      "source": [
        "data = np.array([1, 2, 3, 4])\n",
        "media = np.mean(data)\n",
        "print(media)\n",
        "desviacion = data - media\n",
        "\n",
        "print(desviacion)"
      ],
      "metadata": {
        "colab": {
          "base_uri": "https://localhost:8080/"
        },
        "id": "M8wvFeIyJBWZ",
        "outputId": "cb960bf8-4fbd-4aa4-dac1-86f10e4f0a71"
      },
      "id": "M8wvFeIyJBWZ",
      "execution_count": null,
      "outputs": [
        {
          "output_type": "stream",
          "name": "stdout",
          "text": [
            "2.5\n",
            "[-1.5 -0.5  0.5  1.5]\n"
          ]
        }
      ]
    },
    {
      "cell_type": "code",
      "source": [
        "np.mean(desviacion)"
      ],
      "metadata": {
        "colab": {
          "base_uri": "https://localhost:8080/"
        },
        "id": "qsaacVxnljLs",
        "outputId": "6d2203c0-3cc5-4795-eccc-9daaeeab6f1b"
      },
      "id": "qsaacVxnljLs",
      "execution_count": null,
      "outputs": [
        {
          "output_type": "execute_result",
          "data": {
            "text/plain": [
              "0.0"
            ]
          },
          "metadata": {},
          "execution_count": 23
        }
      ]
    },
    {
      "cell_type": "markdown",
      "source": [
        "### Varianza\n",
        "La estimación más común de la variabilidad es la varianza y la desviación estándar. Ambas se basan en los cuadrados de las desviaciones, la varianza es la media de las desviaciones al cuadrado.\n",
        "\n",
        "\n",
        "<img src=\"https://drive.google.com/uc?id=16a-bnPRrDNYBLmog7IUMOR0AeGZf9Y14\" alt=\"drawing\" width=\"450\"/>\n"
      ],
      "metadata": {
        "id": "3t3Why7GKYfb"
      },
      "id": "3t3Why7GKYfb"
    },
    {
      "cell_type": "code",
      "source": [
        "round(df[\"networth_numeric\"].var(ddof=0),2)"
      ],
      "metadata": {
        "colab": {
          "base_uri": "https://localhost:8080/"
        },
        "id": "81RvTRw8M5c6",
        "outputId": "c38cf301-1ebb-4aa4-f796-9e4d80059ae5"
      },
      "id": "81RvTRw8M5c6",
      "execution_count": null,
      "outputs": [
        {
          "output_type": "execute_result",
          "data": {
            "text/plain": [
              "113.58"
            ]
          },
          "metadata": {},
          "execution_count": 24
        }
      ]
    },
    {
      "cell_type": "code",
      "source": [
        "round(np.var(df[\"networth_numeric\"]),2)"
      ],
      "metadata": {
        "colab": {
          "base_uri": "https://localhost:8080/"
        },
        "id": "zyxdCStyM_8j",
        "outputId": "b2f01e69-34f1-4e48-89be-fbb6edd7a0dd"
      },
      "id": "zyxdCStyM_8j",
      "execution_count": null,
      "outputs": [
        {
          "output_type": "execute_result",
          "data": {
            "text/plain": [
              "113.58"
            ]
          },
          "metadata": {},
          "execution_count": 25
        }
      ]
    },
    {
      "cell_type": "code",
      "source": [
        "round(np.var(data),2)"
      ],
      "metadata": {
        "colab": {
          "base_uri": "https://localhost:8080/"
        },
        "id": "hyRo8VviQ3ct",
        "outputId": "b5961a35-b591-43e2-d0fd-ec3f98c9e2bd"
      },
      "id": "hyRo8VviQ3ct",
      "execution_count": null,
      "outputs": [
        {
          "output_type": "execute_result",
          "data": {
            "text/plain": [
              "1.25"
            ]
          },
          "metadata": {},
          "execution_count": 26
        }
      ]
    },
    {
      "cell_type": "code",
      "source": [
        "round(df[\"age\"].var(ddof=0),2)"
      ],
      "metadata": {
        "id": "iehz9pCORJFz"
      },
      "id": "iehz9pCORJFz",
      "execution_count": null,
      "outputs": []
    },
    {
      "cell_type": "markdown",
      "source": [
        "### Desviación estándar\n",
        "<img src=\"https://drive.google.com/uc?id=1kfTmVza3kifNc7Ismir6gm41llhUzhUH\" alt=\"drawing\" width=\"450\"/>"
      ],
      "metadata": {
        "id": "XPKklNwdJB3y"
      },
      "id": "XPKklNwdJB3y"
    },
    {
      "cell_type": "code",
      "source": [
        "round(df[\"networth_numeric\"].std(),2)"
      ],
      "metadata": {
        "colab": {
          "base_uri": "https://localhost:8080/"
        },
        "id": "TtNoVTcQOohW",
        "outputId": "ca509267-15bf-4955-b6cf-cad6a3d20dfe"
      },
      "id": "TtNoVTcQOohW",
      "execution_count": null,
      "outputs": [
        {
          "output_type": "execute_result",
          "data": {
            "text/plain": [
              "10.66"
            ]
          },
          "metadata": {},
          "execution_count": 27
        }
      ]
    },
    {
      "cell_type": "code",
      "source": [
        "round(df[\"networth_numeric\"].mean(),2)"
      ],
      "metadata": {
        "colab": {
          "base_uri": "https://localhost:8080/"
        },
        "id": "XdkoASXnKxoD",
        "outputId": "64d52699-f0c8-4f65-e1f5-3db7b2d02749"
      },
      "id": "XdkoASXnKxoD",
      "execution_count": null,
      "outputs": [
        {
          "output_type": "execute_result",
          "data": {
            "text/plain": [
              "4.86"
            ]
          },
          "metadata": {},
          "execution_count": 28
        }
      ]
    },
    {
      "cell_type": "code",
      "source": [
        "df[\"networth_numeric\"].std() / df[\"networth_numeric\"].mean()"
      ],
      "metadata": {
        "colab": {
          "base_uri": "https://localhost:8080/"
        },
        "id": "k1eYoTRmR9Pr",
        "outputId": "c7fb95b1-ddfb-4aa3-f834-419af3b6419c"
      },
      "id": "k1eYoTRmR9Pr",
      "execution_count": null,
      "outputs": [
        {
          "output_type": "execute_result",
          "data": {
            "text/plain": [
              "2.1930094499045323"
            ]
          },
          "metadata": {},
          "execution_count": 29
        }
      ]
    },
    {
      "cell_type": "code",
      "source": [
        "round(df[\"age\"].std(),2)"
      ],
      "metadata": {
        "colab": {
          "base_uri": "https://localhost:8080/"
        },
        "id": "jC6GMnYWSMtP",
        "outputId": "57577eb9-f8ea-4ae0-bf77-653ede3a9512"
      },
      "id": "jC6GMnYWSMtP",
      "execution_count": null,
      "outputs": [
        {
          "output_type": "execute_result",
          "data": {
            "text/plain": [
              "13.22"
            ]
          },
          "metadata": {},
          "execution_count": 30
        }
      ]
    },
    {
      "cell_type": "code",
      "source": [
        "round(df[\"age\"].mean(),2)"
      ],
      "metadata": {
        "colab": {
          "base_uri": "https://localhost:8080/"
        },
        "id": "r1o59ciZSOv5",
        "outputId": "4605f01f-a733-4683-b204-f96f36adc8ef"
      },
      "id": "r1o59ciZSOv5",
      "execution_count": null,
      "outputs": [
        {
          "output_type": "execute_result",
          "data": {
            "text/plain": [
              "64.27"
            ]
          },
          "metadata": {},
          "execution_count": 31
        }
      ]
    },
    {
      "cell_type": "code",
      "source": [
        "df[\"age\"].std() / df[\"age\"].mean()"
      ],
      "metadata": {
        "colab": {
          "base_uri": "https://localhost:8080/"
        },
        "id": "IaU3Ss8ASTJx",
        "outputId": "4810d3d7-30c2-44f9-9476-18b2c45fceb9"
      },
      "id": "IaU3Ss8ASTJx",
      "execution_count": null,
      "outputs": [
        {
          "output_type": "execute_result",
          "data": {
            "text/plain": [
              "0.20569800740709301"
            ]
          },
          "metadata": {},
          "execution_count": 32
        }
      ]
    },
    {
      "cell_type": "code",
      "source": [
        "(10.66/4.86) * 100"
      ],
      "metadata": {
        "id": "4gU5azpiL6ow",
        "colab": {
          "base_uri": "https://localhost:8080/"
        },
        "outputId": "21128f13-491a-44bf-f7bb-da0900d7602d"
      },
      "id": "4gU5azpiL6ow",
      "execution_count": null,
      "outputs": [
        {
          "output_type": "execute_result",
          "data": {
            "text/plain": [
              "219.3415637860082"
            ]
          },
          "metadata": {},
          "execution_count": 33
        }
      ]
    },
    {
      "cell_type": "code",
      "source": [
        "(13.22/64.27) * 100"
      ],
      "metadata": {
        "colab": {
          "base_uri": "https://localhost:8080/"
        },
        "id": "jPsJpRQzZT67",
        "outputId": "c7a63d48-73cf-42cf-c178-c07aeaf26a31"
      },
      "id": "jPsJpRQzZT67",
      "execution_count": null,
      "outputs": [
        {
          "output_type": "execute_result",
          "data": {
            "text/plain": [
              "20.56947253773145"
            ]
          },
          "metadata": {},
          "execution_count": 34
        }
      ]
    },
    {
      "cell_type": "code",
      "source": [
        "df[\"networth_numeric\"].hist(bins=30)"
      ],
      "metadata": {
        "id": "oUYcn0qBKsaf"
      },
      "id": "oUYcn0qBKsaf",
      "execution_count": null,
      "outputs": []
    },
    {
      "cell_type": "code",
      "source": [
        "df[\"age\"].hist(bins=30)"
      ],
      "metadata": {
        "id": "DiX5KopgSjhC"
      },
      "id": "DiX5KopgSjhC",
      "execution_count": null,
      "outputs": []
    },
    {
      "cell_type": "code",
      "source": [
        "round(np.std(df[\"networth_numeric\"]),2)"
      ],
      "metadata": {
        "id": "NRXfDcVbOqO-"
      },
      "id": "NRXfDcVbOqO-",
      "execution_count": null,
      "outputs": []
    },
    {
      "cell_type": "markdown",
      "source": [
        "### Desviación absoluta media\n",
        "Una buena medida de la variabilidad es la estimación del valor típico de las desviaciones. Como hacer simplemente la media no nos daría mucha información ya que la combinación de desviaciones negativas anularian las desviaciones positivas, un acercamiento más simple consiste en tomar la media de los valores absolutos de las desviaciones.\n",
        "\n",
        "<img src=\"https://drive.google.com/uc?id=19SviCTZxyE2Cs4sdpolJMBqphXshAbTo\" alt=\"drawing\" width=\"450\"/>"
      ],
      "metadata": {
        "id": "RNxo-dfhKMzL"
      },
      "id": "RNxo-dfhKMzL"
    },
    {
      "cell_type": "code",
      "source": [
        "round(df[\"networth_numeric\"].mad(), 2)"
      ],
      "metadata": {
        "colab": {
          "base_uri": "https://localhost:8080/"
        },
        "id": "OqhidPMbQAnd",
        "outputId": "8c53b2c5-31ad-4095-9198-8402fc52fd79"
      },
      "id": "OqhidPMbQAnd",
      "execution_count": null,
      "outputs": [
        {
          "output_type": "stream",
          "name": "stderr",
          "text": [
            "<ipython-input-35-ea3ef7487c0a>:1: FutureWarning: The 'mad' method is deprecated and will be removed in a future version. To compute the same result, you may do `(df - df.mean()).abs().mean()`.\n",
            "  round(df[\"networth_numeric\"].mad(), 2)\n"
          ]
        },
        {
          "output_type": "execute_result",
          "data": {
            "text/plain": [
              "4.07"
            ]
          },
          "metadata": {},
          "execution_count": 35
        }
      ]
    },
    {
      "cell_type": "code",
      "source": [
        "(df[\"networth_numeric\"] - df[\"networth_numeric\"].mean()).abs().mean()"
      ],
      "metadata": {
        "colab": {
          "base_uri": "https://localhost:8080/"
        },
        "id": "H782o47_lyif",
        "outputId": "8a11b9c5-79da-4071-9155-65f9fa234aca"
      },
      "id": "H782o47_lyif",
      "execution_count": null,
      "outputs": [
        {
          "output_type": "execute_result",
          "data": {
            "text/plain": [
              "4.073085576923076"
            ]
          },
          "metadata": {},
          "execution_count": 36
        }
      ]
    },
    {
      "cell_type": "markdown",
      "source": [
        "### Desviación mediana respecto a la mediana\n",
        "Para obtener un estimador robusto de variabilidad podemos utilizar la mediana de las diferencias absolutas entre las observaciones y la mediana.\n",
        "\n",
        "<img src=\"https://drive.google.com/uc?id=1t2wDAAuVTxZqziZhH8vXRNp1E6w8_ErF\" alt=\"drawing\" width=\"600\"/>"
      ],
      "metadata": {
        "id": "Y__ckhrGQ2TQ"
      },
      "id": "Y__ckhrGQ2TQ"
    },
    {
      "cell_type": "code",
      "source": [
        "from scipy.stats import median_abs_deviation\n",
        "round(median_abs_deviation(df[\"networth_numeric\"]), 2)"
      ],
      "metadata": {
        "colab": {
          "base_uri": "https://localhost:8080/"
        },
        "id": "ahgF6zKqR5WK",
        "outputId": "1c43c33c-e870-46e4-a4b5-d88c83f0e471"
      },
      "id": "ahgF6zKqR5WK",
      "execution_count": null,
      "outputs": [
        {
          "output_type": "execute_result",
          "data": {
            "text/plain": [
              "1.0"
            ]
          },
          "metadata": {},
          "execution_count": 37
        }
      ]
    },
    {
      "cell_type": "markdown",
      "source": [
        "### Estadísticos de órden\n",
        "En ocasiones, para entender las desviaciones resulta útil centrarse en las observaciones que ocupan cierta posición ordenada dentro de la distribución y como de separadas se encuentran las mismas al ordendarse. Vamos a ver el rango y las estimaciones basadas en percentiles."
      ],
      "metadata": {
        "id": "XE4VjL1rT92v"
      },
      "id": "XE4VjL1rT92v"
    },
    {
      "cell_type": "markdown",
      "source": [
        "#### Rango\n",
        "El rango es la diferencia entre el mayor y el menor valor de la distribución. Esta medida, en relación a los estimadores de posición y a los de desviación puede ayudarnos a entender mejor cómo se distribuyen los datos y si tenemos outliers."
      ],
      "metadata": {
        "id": "StutploKSiqZ"
      },
      "id": "StutploKSiqZ"
    },
    {
      "cell_type": "code",
      "source": [
        "rango = df[\"networth_numeric\"].max() - df[\"networth_numeric\"].min()\n",
        "print(rango)\n",
        "print(round(df[\"networth_numeric\"].mean(), 2))\n",
        "print(df[\"networth_numeric\"].median())"
      ],
      "metadata": {
        "colab": {
          "base_uri": "https://localhost:8080/"
        },
        "id": "2_q1Ne20TUqR",
        "outputId": "cbb7ac3a-df5f-4df6-8679-cf3104e75d53"
      },
      "id": "2_q1Ne20TUqR",
      "execution_count": null,
      "outputs": [
        {
          "output_type": "stream",
          "name": "stdout",
          "text": [
            "218.0\n",
            "4.86\n",
            "2.4\n"
          ]
        }
      ]
    },
    {
      "cell_type": "markdown",
      "source": [
        "#### Estimaciones basadas en percentiles\n",
        "Ya hemos definido, en la sección de estadísticos de posición, los percentiles. Si medimos la distancia que existe entre ellos podemos tener medidas de la dispersión y desviación de la muestra. El cálculo más típcico es es IQR o rango intercuartílico que es la diferencia entre el percentil 0.75 y el 0.25.\n",
        "\n",
        "Este valor, el IQR, nos puede ayudar a filtrar automáticamente los outliers. Resulta típico establecer un parámetro de filtrado,f , que puede ser 1.5, 3 (tipicamente) o más y filtrar todos aquellos valores que queden por encima de la mediana más f veces el rango intercuartílico y por debajo de la mediana menos f veces el rango intercuartílico.\n",
        "\n",
        "El cálculo de los percentiles es computacionalmente muy costoso y cuando tenemos grandes datasets el cálculo suele ser aproximado. En cualquier caso, estos métodos aproximados no suelen ser un problema."
      ],
      "metadata": {
        "id": "gblFphGVUieY"
      },
      "id": "gblFphGVUieY"
    },
    {
      "cell_type": "code",
      "source": [
        "IQR = df[\"networth_numeric\"].quantile(0.75) - df[\"networth_numeric\"].quantile(0.25)"
      ],
      "metadata": {
        "id": "wKSYyC4_XIoj"
      },
      "id": "wKSYyC4_XIoj",
      "execution_count": null,
      "outputs": []
    },
    {
      "cell_type": "code",
      "source": [
        "print(IQR)\n",
        "print([df[\"networth_numeric\"].median() - 3*IQR, df[\"networth_numeric\"].median() + 3*IQR])"
      ],
      "metadata": {
        "id": "iSYR1rh1XOs_",
        "colab": {
          "base_uri": "https://localhost:8080/"
        },
        "outputId": "5e4ecd06-901b-4465-8d10-60c7b8484dc9"
      },
      "id": "iSYR1rh1XOs_",
      "execution_count": null,
      "outputs": [
        {
          "output_type": "stream",
          "name": "stdout",
          "text": [
            "3.0\n",
            "[-6.6, 11.4]\n"
          ]
        }
      ]
    },
    {
      "cell_type": "code",
      "source": [
        "df[\"networth_numeric\"].hist(bins=25)"
      ],
      "metadata": {
        "id": "HQZtvWZvgkAq"
      },
      "id": "HQZtvWZvgkAq",
      "execution_count": null,
      "outputs": []
    },
    {
      "cell_type": "code",
      "source": [
        "df[\"age\"].hist(bins=25)"
      ],
      "metadata": {
        "id": "rQqJjCkBM9jA"
      },
      "id": "rQqJjCkBM9jA",
      "execution_count": null,
      "outputs": []
    },
    {
      "cell_type": "code",
      "source": [
        "(df[\"age\"].std()/df[\"age\"].mean())*100"
      ],
      "metadata": {
        "id": "h2JlyC2gNF8w"
      },
      "id": "h2JlyC2gNF8w",
      "execution_count": null,
      "outputs": []
    },
    {
      "cell_type": "code",
      "source": [
        "df.head()"
      ],
      "metadata": {
        "id": "56VmpOOZ0pDv"
      },
      "id": "56VmpOOZ0pDv",
      "execution_count": null,
      "outputs": []
    },
    {
      "cell_type": "markdown",
      "source": [
        "### Ejercicios\n",
        "* #####  Para este dataset ¿qué estadístico de posición y desviación describen mejor la distribución de las variables edad \"age\" y riqueza neta \"networth_numeric\"\n",
        "\n",
        "* ¿Qué multimillonarios se quedarían fuera de los cálculos si aplicaramos un filtro estadístico de outliers en la variable networth_numeric de 1.5 veces el rango intercuartílico? ¿Y si fuera de 3 veces? ¿Crees que desvirtuan lo suficiente la distribución como para eliminarlos? ¿Tenemos el mismo problema con la edad?"
      ],
      "metadata": {
        "id": "VLxQO6DeXr7T"
      },
      "id": "VLxQO6DeXr7T"
    }
  ],
  "metadata": {
    "kernelspec": {
      "display_name": "Python 3",
      "language": "python",
      "name": "python3"
    },
    "language_info": {
      "codemirror_mode": {
        "name": "ipython",
        "version": 3
      },
      "file_extension": ".py",
      "mimetype": "text/x-python",
      "name": "python",
      "nbconvert_exporter": "python",
      "pygments_lexer": "ipython3",
      "version": "3.9.2"
    },
    "colab": {
      "provenance": [],
      "include_colab_link": true
    }
  },
  "nbformat": 4,
  "nbformat_minor": 5
}