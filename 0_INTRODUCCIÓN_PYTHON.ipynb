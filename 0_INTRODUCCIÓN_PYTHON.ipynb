{
  "cells": [
    {
      "cell_type": "markdown",
      "metadata": {
        "id": "view-in-github",
        "colab_type": "text"
      },
      "source": [
        "<a href=\"https://colab.research.google.com/github/LuisIrma/pontia_prueba/blob/main/0_INTRODUCCI%C3%93N_PYTHON.ipynb\" target=\"_parent\"><img src=\"https://colab.research.google.com/assets/colab-badge.svg\" alt=\"Open In Colab\"/></a>"
      ]
    },
    {
      "cell_type": "markdown",
      "id": "civic-fitness",
      "metadata": {
        "id": "civic-fitness"
      },
      "source": [
        "<img src=\"https://drive.google.com/uc?id=1h6tCCKlZYAb2vZ265Ox8-zoSlSoutDBi\" alt=\"drawing\" width=\"150\"/>\n",
        "\n",
        "_Master en Data Analytics y Master Data Science._  \n",
        "**Docente:** Luis Esteban Andaluz  \n",
        "**Email:** luis_esteban_95@hotmail.es  \n",
        "**Lindkedin:**  https://www.linkedin.com/in/luis-esteban-andaluz/\n",
        "\n",
        "\n",
        "---\n",
        "\n",
        "\n",
        "\n",
        "\n",
        "# 0 - Introducción a Jupyter y Python"
      ]
    },
    {
      "cell_type": "markdown",
      "id": "physical-marketplace",
      "metadata": {
        "id": "physical-marketplace"
      },
      "source": [
        "## Índice:\n",
        "* [Jupyter. ¿Qué es y cómo funciona?](#Jupyter)\n",
        "* [Python. Una pequeña introducción](#Python)\n",
        "* [Ejercicios](#Ejercicios)"
      ]
    },
    {
      "cell_type": "markdown",
      "id": "blocked-ideal",
      "metadata": {
        "id": "blocked-ideal"
      },
      "source": [
        "##  Jupyter. ¿Qué es y cómo funciona?<a class=\"anchor\" id=\"Jupyter\"></a>\n",
        "\n",
        "<img src=\"https://drive.google.com/uc?id=1wpIx73ONgAtMjAYAgr-jb9GoYG8KUzAa\" alt=\"drawing\" width=\"150\"/>"
      ]
    },
    {
      "cell_type": "markdown",
      "id": "neutral-thesaurus",
      "metadata": {
        "id": "neutral-thesaurus"
      },
      "source": [
        "[Jupyter](https://jupyter.org/) es un proyecto open source que sirve para ejecutar tanto julia, como python como r.\n",
        "\n",
        "Esto es un notebook de jupyter, tiene extensión .pynb y es un entorno que nos permite combinar código y texto en formato markdown (os dejo aquí una [cheatsheet de markdown](https://www.markdownguide.org/cheat-sheet/)). Funciona por celdas, cada celda tiene un formato y en él podemos escribir. Si hacemos doble clik sobre ella aparece el código que se ejecuta.\n",
        "\n",
        "Es un formato de código muy interesante ya que resulta idóneo para compartir resultados de forma muy bien documentada. Además, es un estándar entre las herramientas de programación en la nube. Su único inconveniente es que no es un formato ejecutable directamente por python y, aunque se puede obtener un .py (fichero de ejecución de python) muy fácilmente, es posible que se obtenga alguna inconsistencia.\n",
        "\n",
        "Aquí tienes una cheatsheet de [Jupyter Notebooks](http://datacamp-community-prod.s3.amazonaws.com/21fdc814-3f08-4aa9-90fa-247eedefd655)"
      ]
    },
    {
      "cell_type": "markdown",
      "id": "faced-helping",
      "metadata": {
        "id": "faced-helping"
      },
      "source": [
        "\n",
        "\n",
        "### Una serie de shortcuts muy potentes."
      ]
    },
    {
      "cell_type": "markdown",
      "id": "personalized-harris",
      "metadata": {
        "id": "personalized-harris"
      },
      "source": [
        "* __shit + enter__: Se ejecuta la celda y pasamos a la siguiente.  \n",
        "* __alt + enter__: Se ejecuta la celda actual y se crea una más abajo.\n",
        "* __a__: generar una celda encima de la seleccionada.\n",
        "* __b__: generar una celda debajo de la seleccionada."
      ]
    },
    {
      "cell_type": "markdown",
      "id": "instrumental-building",
      "metadata": {
        "id": "instrumental-building"
      },
      "source": [
        "## Python. Una pequeña introducción <a class=\"anchor\" id=\"Python\"></a>"
      ]
    },
    {
      "cell_type": "markdown",
      "id": "wrapped-shopper",
      "metadata": {
        "id": "wrapped-shopper"
      },
      "source": [
        "[Python](https://www.python.org/) es un lenguaje de programación interpretado (no hace falta compilarlo), no tipado (podemos ir definiendo las variables sobre la marcha), orientado a objetos (las variables y elementos de python tienen métodos con los que trabajar) y modular (existen múltiples paquetes que se pueden incluir). Aquí tenemos una [cheatsheet de python](http://datacamp-community-prod.s3.amazonaws.com/0eff0330-e87d-4c34-88d5-73e80cb955f2)."
      ]
    },
    {
      "cell_type": "markdown",
      "id": "alone-share",
      "metadata": {
        "id": "alone-share"
      },
      "source": [
        "Así podemos instalar un módulo. Este nos sirve para comunicarnos con Excel."
      ]
    },
    {
      "cell_type": "code",
      "execution_count": null,
      "id": "whole-franklin",
      "metadata": {
        "id": "whole-franklin",
        "colab": {
          "base_uri": "https://localhost:8080/"
        },
        "outputId": "6498d16c-6356-4321-d910-1bb5dab4fb5b"
      },
      "outputs": [
        {
          "output_type": "stream",
          "name": "stdout",
          "text": [
            "Requirement already satisfied: openpyxl in /usr/local/lib/python3.10/dist-packages (3.1.2)\n",
            "Requirement already satisfied: et-xmlfile in /usr/local/lib/python3.10/dist-packages (from openpyxl) (1.1.0)\n"
          ]
        }
      ],
      "source": [
        "!pip install openpyxl"
      ]
    },
    {
      "cell_type": "markdown",
      "id": "civic-degree",
      "metadata": {
        "id": "civic-degree"
      },
      "source": [
        "### El manual de estilo de python"
      ]
    },
    {
      "cell_type": "code",
      "execution_count": null,
      "id": "married-thickness",
      "metadata": {
        "id": "married-thickness"
      },
      "outputs": [],
      "source": [
        "import this"
      ]
    },
    {
      "cell_type": "markdown",
      "id": "derived-slope",
      "metadata": {
        "id": "derived-slope"
      },
      "source": [
        "Los tipos principales son:\n",
        "* Numérico (entero, int o decimal, float o double).\n",
        "* Alfanumerico (texto, string)\n",
        "* Booleano (verdadero, True o Falso, False)  \n",
        "\n",
        "Otros tipos de datos muy importantes son las colecciones, conjuntos de los anteriores datos:\n",
        "* listas (series de variables de python que se pueden modificar, [])\n",
        "* tuplas (series de variables de python que no se pueden modificar ())\n",
        "* diccionarios (conjuntos clave valor, {})\n",
        "\n",
        "Los comentarios los indicamos con #."
      ]
    },
    {
      "cell_type": "markdown",
      "id": "mysterious-humanity",
      "metadata": {
        "id": "mysterious-humanity"
      },
      "source": [
        "#### Números\n",
        "Utilizamos los números habituales y separamos los decimales con puntos (.)"
      ]
    },
    {
      "cell_type": "code",
      "execution_count": null,
      "id": "romantic-joining",
      "metadata": {
        "id": "romantic-joining"
      },
      "outputs": [],
      "source": [
        "# Definimos variables con el operador =\n",
        "a = 2\n",
        "b = 2\n",
        "c = 3"
      ]
    },
    {
      "cell_type": "code",
      "execution_count": null,
      "id": "extraordinary-bumper",
      "metadata": {
        "id": "extraordinary-bumper"
      },
      "outputs": [],
      "source": [
        "# suma\n",
        "print(a+b)\n",
        "# resta\n",
        "print(a-b)\n",
        "# división\n",
        "print(c/b)\n",
        "# multiplicación\n",
        "print(b*c)\n",
        "# potencia\n",
        "print(c**b)\n",
        "# módulo\n",
        "print(c//b)\n",
        "# Comparar nombres\n",
        "print(a == b)\n",
        "print(a != b)\n",
        "print(a > b)\n",
        "print(a >= b)\n",
        "print(a < b)\n",
        "print(a <= b)"
      ]
    },
    {
      "cell_type": "markdown",
      "id": "limiting-flight",
      "metadata": {
        "id": "limiting-flight"
      },
      "source": [
        "#### Alfanumérico\n",
        "Escribimos al cadena de texto dentro de comillas dobles o simples"
      ]
    },
    {
      "cell_type": "code",
      "execution_count": null,
      "id": "interim-workplace",
      "metadata": {
        "id": "interim-workplace"
      },
      "outputs": [],
      "source": [
        "mi_string = \"Hola Mundo!\""
      ]
    },
    {
      "cell_type": "code",
      "execution_count": null,
      "id": "verified-representation",
      "metadata": {
        "id": "verified-representation"
      },
      "outputs": [],
      "source": [
        "print(mi_string)"
      ]
    },
    {
      "cell_type": "markdown",
      "id": "tropical-married",
      "metadata": {
        "id": "tropical-married"
      },
      "source": [
        "Podemos acceder a los elementos de la cadena de texto utilizando los corchetes []. Esta es una operación que se repite habitualmente en python."
      ]
    },
    {
      "cell_type": "code",
      "execution_count": null,
      "id": "requested-reaction",
      "metadata": {
        "id": "requested-reaction"
      },
      "outputs": [],
      "source": [
        "print(mi_string[0])\n",
        "print(mi_string[2])\n",
        "print(mi_string[-2])"
      ]
    },
    {
      "cell_type": "markdown",
      "id": "mexican-fight",
      "metadata": {
        "id": "mexican-fight"
      },
      "source": [
        "Podemos referirnos a una serie de caracteres utilizando el operador :"
      ]
    },
    {
      "cell_type": "code",
      "execution_count": null,
      "id": "accessory-tucson",
      "metadata": {
        "id": "accessory-tucson"
      },
      "outputs": [],
      "source": [
        "print(mi_string[3:])\n",
        "print(mi_string[:3])\n",
        "# No coge el cierre de la condicion"
      ]
    },
    {
      "cell_type": "markdown",
      "id": "unnecessary-penalty",
      "metadata": {
        "id": "unnecessary-penalty"
      },
      "source": [
        "#### Booleano\n",
        "Los definimos con las palabras reservadas True y False"
      ]
    },
    {
      "cell_type": "code",
      "execution_count": null,
      "id": "comparative-marriage",
      "metadata": {
        "id": "comparative-marriage"
      },
      "outputs": [],
      "source": [
        "t = True\n",
        "f = False"
      ]
    },
    {
      "cell_type": "code",
      "execution_count": null,
      "id": "superb-sleeve",
      "metadata": {
        "id": "superb-sleeve"
      },
      "outputs": [],
      "source": [
        "# Podemos aplicar las operaciones logica and y or\n",
        "print(t and f)\n",
        "print(t or f)\n",
        "print(t & f)\n",
        "print(t | f)\n",
        "print(not t and f)\n",
        "print(t or not f)\n",
        "# Tambien representan valores numericos\n",
        "print(t == 1)\n",
        "print(f == 0)\n",
        "print(f * t)"
      ]
    },
    {
      "cell_type": "markdown",
      "id": "pursuant-fellow",
      "metadata": {
        "id": "pursuant-fellow"
      },
      "source": [
        "#### Colecciones\n",
        "Vamos a ver cómo se definen las listas, las tuplas y los diccionarios"
      ]
    },
    {
      "cell_type": "code",
      "execution_count": null,
      "id": "danish-federation",
      "metadata": {
        "id": "danish-federation"
      },
      "outputs": [],
      "source": [
        "l1 = [1, 2, 3] # esto es una lista\n",
        "t1 = (1, 2, 3) # esto es una tupla"
      ]
    },
    {
      "cell_type": "code",
      "execution_count": null,
      "id": "manual-asian",
      "metadata": {
        "id": "manual-asian"
      },
      "outputs": [],
      "source": [
        "print(l1)\n",
        "print(t1)\n",
        "print(l1[2])\n",
        "print(t1[1])"
      ]
    },
    {
      "cell_type": "code",
      "execution_count": null,
      "id": "dated-cooperative",
      "metadata": {
        "id": "dated-cooperative"
      },
      "outputs": [],
      "source": [
        "# hay funciones que aplican directamente a las listas\n",
        "print(max(l1))\n",
        "print(min(t1))\n",
        "print(sum(l1))"
      ]
    },
    {
      "cell_type": "code",
      "execution_count": null,
      "id": "antique-motorcycle",
      "metadata": {
        "id": "antique-motorcycle"
      },
      "outputs": [],
      "source": [
        "# con el método append añadimos elementos en la lista, en la tupla no podemos, nos da error."
      ]
    },
    {
      "cell_type": "code",
      "execution_count": null,
      "id": "fantastic-brooks",
      "metadata": {
        "id": "fantastic-brooks"
      },
      "outputs": [],
      "source": [
        "l1.append(1)"
      ]
    },
    {
      "cell_type": "code",
      "execution_count": null,
      "id": "amino-woman",
      "metadata": {
        "id": "amino-woman"
      },
      "outputs": [],
      "source": [
        "print(l1)"
      ]
    },
    {
      "cell_type": "code",
      "execution_count": null,
      "id": "turkish-husband",
      "metadata": {
        "id": "turkish-husband"
      },
      "outputs": [],
      "source": [
        "t1.append(3)"
      ]
    },
    {
      "cell_type": "code",
      "execution_count": null,
      "id": "actual-blond",
      "metadata": {
        "id": "actual-blond"
      },
      "outputs": [],
      "source": [
        "# Tanto las listas como las tuplas pueden tener tipos de datos mixtos\n",
        "l2 = [\"1\", 1, True]"
      ]
    },
    {
      "cell_type": "code",
      "execution_count": null,
      "id": "frank-schedule",
      "metadata": {
        "id": "frank-schedule"
      },
      "outputs": [],
      "source": [
        "# Tambien podemos utilizar el operador :\n",
        "l2[1:]"
      ]
    },
    {
      "cell_type": "code",
      "execution_count": null,
      "id": "isolated-cathedral",
      "metadata": {
        "id": "isolated-cathedral"
      },
      "outputs": [],
      "source": [
        "# Podemos conocer la longitud de una lista con la funcion len\n",
        "len(l2)"
      ]
    },
    {
      "cell_type": "markdown",
      "id": "dramatic-fighter",
      "metadata": {
        "id": "dramatic-fighter"
      },
      "source": [
        "Los diccionarios los definimos así:"
      ]
    },
    {
      "cell_type": "code",
      "execution_count": null,
      "id": "heated-thumb",
      "metadata": {
        "id": "heated-thumb"
      },
      "outputs": [],
      "source": [
        "d1 = {\"hola\": \"mundo\"}\n",
        "d2 = {\"d1\": 1}\n",
        "d3 = {1: 3}\n",
        "d4 = {9: \"nueve\", \"ocho\": 8}"
      ]
    },
    {
      "cell_type": "code",
      "execution_count": null,
      "id": "broke-payment",
      "metadata": {
        "id": "broke-payment"
      },
      "outputs": [],
      "source": [
        "print(d1)"
      ]
    },
    {
      "cell_type": "code",
      "execution_count": null,
      "id": "gentle-equation",
      "metadata": {
        "id": "gentle-equation"
      },
      "outputs": [],
      "source": [
        "print(d1[\"hola\"])"
      ]
    },
    {
      "cell_type": "code",
      "execution_count": null,
      "id": "acoustic-irish",
      "metadata": {
        "id": "acoustic-irish"
      },
      "outputs": [],
      "source": [
        "print(d4[9])"
      ]
    },
    {
      "cell_type": "markdown",
      "id": "printable-slave",
      "metadata": {
        "id": "printable-slave"
      },
      "source": [
        "## Ejercicios.  <a class=\"anchor\" id=\"Ejercicios\"></a>"
      ]
    },
    {
      "cell_type": "markdown",
      "id": "brown-directive",
      "metadata": {
        "id": "brown-directive"
      },
      "source": [
        "### Ejercicio 1.\n",
        "__Realiza estas operaciones en Python.__  \n",
        "* (5-3)^(3)-4e4\n",
        "* sqrt(4*10/2)"
      ]
    },
    {
      "cell_type": "code",
      "execution_count": null,
      "id": "loved-person",
      "metadata": {
        "id": "loved-person"
      },
      "outputs": [],
      "source": [
        "(5-3)**(3)-4e4"
      ]
    },
    {
      "cell_type": "code",
      "execution_count": null,
      "id": "flush-rehabilitation",
      "metadata": {
        "id": "flush-rehabilitation",
        "collapsed": true
      },
      "outputs": [],
      "source": [
        "(4*10/2)**0.5"
      ]
    }
  ],
  "metadata": {
    "kernelspec": {
      "display_name": "Python 3",
      "language": "python",
      "name": "python3"
    },
    "language_info": {
      "codemirror_mode": {
        "name": "ipython",
        "version": 3
      },
      "file_extension": ".py",
      "mimetype": "text/x-python",
      "name": "python",
      "nbconvert_exporter": "python",
      "pygments_lexer": "ipython3",
      "version": "3.9.2"
    },
    "colab": {
      "provenance": [],
      "include_colab_link": true
    }
  },
  "nbformat": 4,
  "nbformat_minor": 5
}